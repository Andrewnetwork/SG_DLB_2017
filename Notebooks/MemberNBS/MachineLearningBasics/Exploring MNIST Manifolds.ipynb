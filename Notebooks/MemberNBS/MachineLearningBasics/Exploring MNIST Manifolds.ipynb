{
 "cells": [
  {
   "cell_type": "markdown",
   "metadata": {},
   "source": [
    "# Exploring MNIST Manifolds\n",
    "** November 2017 **\n",
    "\n",
    "** Andrew Riberio @ [AndrewRib.com](http://www.andrewrib.com) **\n",
    "\n",
    "Pg 158 of the [Deep Learning Book](http://www.deeplearningbook.org/), \"In the case of images, we can certainly think of many possible transformations that allow us to trace out a manifold in image space: we can gradually dim or brighten the lights, gradually move or rotate objects in the image, gradually alter the colors on the surfaces of objects, and so forth. Multiple manifolds are likely involved in most applications.\" \n",
    "\n",
    "In this notebook we will explore manifolds in the MNIST dataset by modeling the transformations which represent their traversal. Are some transformations over representend? I.e. do we have a manifold bias? How would we quantify this? We do this by assigning each image to a manifold and studying the distribution. We wish to explore that here. \n",
    "\n",
    "** Note: ** This notebook contains interactive elements and certain latex snippets that will not render in github markdown. \n",
    "You must run this notebook on your local Jupyter notebook environment for interactive elements or render or if you wish to render just the latex by using the url of this repo with the online NBViewer. \n",
    "\n",
    "## Libraries"
   ]
  },
  {
   "cell_type": "code",
   "execution_count": 252,
   "metadata": {
    "collapsed": true
   },
   "outputs": [],
   "source": [
    "# Visualization \n",
    "from mpl_toolkits.mplot3d import Axes3D\n",
    "import matplotlib.pyplot as plt\n",
    "\n",
    "#Interactive Components\n",
    "from ipywidgets import interact\n",
    "\n",
    "# Dataset Operations and Linear Algebra \n",
    "import pandas as pd\n",
    "import numpy as np\n",
    "\n",
    "# Machine Learning\n",
    "from sklearn.cluster import KMeans\n",
    "from sklearn.decomposition import PCA\n",
    "\n",
    "# MNIST Dataset\n",
    "from tensorflow.examples.tutorials.mnist import input_data"
   ]
  },
  {
   "cell_type": "markdown",
   "metadata": {},
   "source": [
    "## Gathering data from files into a dictionary numpy arrays. "
   ]
  },
  {
   "cell_type": "code",
   "execution_count": 4,
   "metadata": {},
   "outputs": [
    {
     "name": "stdout",
     "output_type": "stream",
     "text": [
      "Extracting MNIST_data/train-images-idx3-ubyte.gz\n",
      "Extracting MNIST_data/train-labels-idx1-ubyte.gz\n",
      "Extracting MNIST_data/t10k-images-idx3-ubyte.gz\n",
      "Extracting MNIST_data/t10k-labels-idx1-ubyte.gz\n",
      "Digit 0 matrix shape: (5444, 784)\n",
      "Digit 1 matrix shape: (6179, 784)\n",
      "Digit 2 matrix shape: (5470, 784)\n",
      "Digit 3 matrix shape: (5638, 784)\n",
      "Digit 4 matrix shape: (5307, 784)\n",
      "Digit 5 matrix shape: (4987, 784)\n",
      "Digit 6 matrix shape: (5417, 784)\n",
      "Digit 7 matrix shape: (5715, 784)\n",
      "Digit 8 matrix shape: (5389, 784)\n",
      "Digit 9 matrix shape: (5454, 784)\n"
     ]
    }
   ],
   "source": [
    "mnist = input_data.read_data_sets(\"MNIST_data/\", one_hot=False)\n",
    "\n",
    "unique, counts    = np.unique(mnist.train.labels, return_counts=True)\n",
    "sortedCount       = sorted(dict(zip(unique, counts)).items(), key=lambda x: x[1],reverse=True)\n",
    "sortedCountLabels = [i[0] for i in sortedCount]\n",
    "sortedCountFreq   = [i[1] for i in sortedCount]\n",
    "\n",
    "# TODO: Make more efficient.\n",
    "# First we will zip the training labels with the training images\n",
    "dataWithLabels = zip(mnist.train.labels, mnist.train.images)\n",
    "\n",
    "# Now let's turn this into a dictionary where subsets of the images in respect\n",
    "# to digit class are stored via the corresponding key.\n",
    "\n",
    "# Init dataDict with keys [0,9] and empty lists.\n",
    "digitDict = {}\n",
    "for i in range(0,10):\n",
    "    digitDict[i] = []\n",
    "\n",
    "# Assign a list of image vectors to each corresponding digit class index.\n",
    "for i in dataWithLabels:\n",
    "    digitDict[i[0]].append(i[1])\n",
    "\n",
    "# Convert the lists into numpy matricies. (could be done above, but I claim ignorace)\n",
    "for i in range(0,10):\n",
    "    digitDict[i] = np.matrix(digitDict[i])\n",
    "    print(\"Digit {0} matrix shape: {1}\".format(i,digitDict[i].shape))\n",
    "\n",
    "\n",
    "#nImgs = digitDict[9].shape[0]\n",
    "#avgImg = np.dot(digitDict[9].T, np.ones((nImgs,1)))/nImgs"
   ]
  },
  {
   "cell_type": "markdown",
   "metadata": {},
   "source": [
    "## Experiment 1: PCA\n",
    "\n",
    "With principle components analysis, we can explore sources of variability in the MNIST dataset. The aim is to use this notion of variablity to describe the transformations found in the data. Once we can model the transformations found in the data, we can use them to describe various manifolds in MNIST. \n",
    "\n",
    "Let's begin by using this interactive section to explore the first two principle components as vectors plotted over each digit with respect to each digit class. "
   ]
  },
  {
   "cell_type": "code",
   "execution_count": 271,
   "metadata": {},
   "outputs": [
    {
     "data": {
      "image/png": "[encoded data removed]",
      "text/plain": [
       "<matplotlib.figure.Figure at 0x25f1a120b38>"
      ]
     },
     "metadata": {},
     "output_type": "display_data"
    }
   ],
   "source": [
    "def pcaVectOnIMG(dataset,elmIndex):\n",
    "    X_r = PCA(n_components=2).fit(dataset)\n",
    "    pcaVect = X_r.transform(dataset[elmIndex])\n",
    "    origin = [[14], [14]]\n",
    "    plt.figure(figsize=(5,5))\n",
    "    plt.imshow(dataset[elmIndex].reshape(28,28),cmap='gray')\n",
    "    plt.quiver(*origin, pcaVect[:,0], pcaVect[:,1], color=['r','b','g'], scale=10)\n",
    "    plt.show()\n",
    "    \n",
    "z =  lambda elmIndex=0,digit=1 :pcaVectOnIMG(digitDict[digit],elmIndex)\n",
    "\n",
    "# Will error for some values of elmIndex.\n",
    "interact( z, elmIndex=[0,8000],digit=[0,9])"
   ]
  },
  {
   "cell_type": "markdown",
   "metadata": {},
   "source": [
    "I hope you noticed how the first two principle components as a vector did a good job showing the left or right lean bias of the 1's; however, when a 1 is stretched or shrunk in the virtical direction, variablility not captured by the first two principle components essentially add noise and reduce the signifigance of where the vector is pointing. Here's an example where the vector does a great job at showing the variablity. "
   ]
  },
  {
   "cell_type": "code",
   "execution_count": 272,
   "metadata": {},
   "outputs": [
    {
     "data": {
      "image/png": "[encoded data removed]",
      "text/plain": [
       "<matplotlib.figure.Figure at 0x25f19ba4f60>"
      ]
     },
     "metadata": {},
     "output_type": "display_data"
    }
   ],
   "source": [
    "pcaVectOnIMG(digitDict[1],1340)"
   ]
  },
  {
   "cell_type": "markdown",
   "metadata": {},
   "source": [
    "Here's an example where our principle component vector does not do a good job at showing the variability. "
   ]
  },
  {
   "cell_type": "code",
   "execution_count": 274,
   "metadata": {},
   "outputs": [
    {
     "data": {
      "image/png": "[encoded data removed]",
      "text/plain": [
       "<matplotlib.figure.Figure at 0x25f23626080>"
      ]
     },
     "metadata": {},
     "output_type": "display_data"
    }
   ],
   "source": [
    "pcaVectOnIMG(digitDict[1],2313)"
   ]
  },
  {
   "cell_type": "markdown",
   "metadata": {},
   "source": [
    "### Experiment 1.1: Plotting the space of PCA Vectors"
   ]
  },
  {
   "cell_type": "code",
   "execution_count": 291,
   "metadata": {},
   "outputs": [
    {
     "data": {
      "image/png": "[encoded data removed]",
      "text/plain": [
       "<matplotlib.figure.Figure at 0x25f19d05668>"
      ]
     },
     "metadata": {},
     "output_type": "display_data"
    }
   ],
   "source": [
    "def plotPCAVectors(data,componentIndexVec=[0,1],nComponents=100,filterDensity=50):\n",
    "    data = data[0::filterDensity]\n",
    "    X_r = PCA(n_components=nComponents).fit(data).transform(data)\n",
    "\n",
    "    plt.figure(figsize=(6,6))\n",
    "    ax = plt.gca()\n",
    "\n",
    "    origin = [0], [0] # origin point\n",
    "    \n",
    "    plt.quiver(*origin, X_r[:,componentIndexVec[0]], X_r[:,componentIndexVec[1]], color=['r','b','g'], scale=13)\n",
    "\n",
    "    plt.show()\n",
    "    \n",
    "z = lambda fIndex=0,sIndex=1,digit=1:plotPCAVectors(digitDict[digit],[fIndex,sIndex])\n",
    "    \n",
    "print(\"fIndex: the first principle component in the vector\")\n",
    "print(\"sIndex: the first principle component in the vector\")\n",
    "interact(z,fIndex=[0,100],sIndex=[0,100],digit=[0,9])"
   ]
  },
  {
   "cell_type": "code",
   "execution_count": 246,
   "metadata": {},
   "outputs": [
    {
     "data": {
      "text/plain": [
       "[0, 1]"
      ]
     },
     "execution_count": 246,
     "metadata": {},
     "output_type": "execute_result"
    }
   ],
   "source": [
    "def plotPCAVectors(data,filterDensity=1):\n",
    "    data = data[0::filterDensity]\n",
    "    X_r = PCA(n_components=2).fit(data).transform(data)\n",
    "\n",
    "    plt.figure(figsize=(10,10))\n",
    "    ax = plt.gca()\n",
    "\n",
    "    origin = [0], [0] # origin point\n",
    "    \n",
    "    plt.quiver(*origin, X_r[:,0], X_r[:,1], color=['r','b','g'], scale=21)\n",
    "\n",
    "    plt.show()\n",
    "\n",
    "#plotPCAVectors(digitDict[5],50)\n",
    "\n",
    "def pcaVectOnIMG(dataset,elmIndex):\n",
    "    X_r = PCA(n_components=2).fit(dataset)\n",
    "    pcaVect = X_r.transform(dataset[elmIndex])\n",
    "    origin = [[14], [14]]\n",
    "    plt.imshow(dataset[elmIndex].reshape(28,28),cmap='gray')\n",
    "    plt.quiver(*origin, pcaVect[:,0], pcaVect[:,1], color=['r','b','g'], scale=10)\n",
    "    plt.show()\n",
    "\n",
    "#pcaVectOnIMG(digitDict[1],190)\n",
    "\n",
    "def pcaR2Vects(dataset):\n",
    "    return PCA(n_components=2).fit(dataset).transform(dataset)\n",
    "\n",
    "#pcaR2Vects(digitDict[1])\n",
    "\n",
    "def dataWithPCA_R2Vects(dataset):\n",
    "    pcaVects = pcaR2Vects(dataset)\n",
    "    print(dataset.shape)\n",
    "    print(pcaVects.shape)\n",
    "    return zip(dataset,pcaVects)\n",
    "\n",
    "def R2Norm(vects):\n",
    "    return np.linalg.norm( pcaR2Vects(ds), 2 , axis= 1)\n",
    "\n",
    "ds = digitDict[1]\n",
    "vectMag = zip(list(range(0,2,1)),R2Norm( pcaR2Vects(ds) ))\n",
    "\n"
   ]
  },
  {
   "cell_type": "markdown",
   "metadata": {},
   "source": [
    "## Experiment 2: MNIST Statistics\n",
    "In this section we will do things like explore the co-variance matrix of the digits. "
   ]
  },
  {
   "cell_type": "markdown",
   "metadata": {},
   "source": [
    "## Experiment 3: K-Means Manifold Clustering\n",
    "Here we will work within digit classes. "
   ]
  },
  {
   "cell_type": "code",
   "execution_count": 197,
   "metadata": {},
   "outputs": [
    {
     "data": {
      "text/plain": [
       "{0: matrix([[ 0.,  0.,  0., ...,  0.,  0.,  0.],\n",
       "         [ 0.,  0.,  0., ...,  0.,  0.,  0.],\n",
       "         [ 0.,  0.,  0., ...,  0.,  0.,  0.],\n",
       "         ..., \n",
       "         [ 0.,  0.,  0., ...,  0.,  0.,  0.],\n",
       "         [ 0.,  0.,  0., ...,  0.,  0.,  0.],\n",
       "         [ 0.,  0.,  0., ...,  0.,  0.,  0.]], dtype=float32),\n",
       " 1: matrix([[ 0.,  0.,  0., ...,  0.,  0.,  0.],\n",
       "         [ 0.,  0.,  0., ...,  0.,  0.,  0.],\n",
       "         [ 0.,  0.,  0., ...,  0.,  0.,  0.],\n",
       "         ..., \n",
       "         [ 0.,  0.,  0., ...,  0.,  0.,  0.],\n",
       "         [ 0.,  0.,  0., ...,  0.,  0.,  0.],\n",
       "         [ 0.,  0.,  0., ...,  0.,  0.,  0.]], dtype=float32)}"
      ]
     },
     "execution_count": 197,
     "metadata": {},
     "output_type": "execute_result"
    }
   ],
   "source": [
    "def KMeanDict(data,nClusters):\n",
    "    kmLabels = KMeans(n_clusters=nClusters, random_state=None).fit(data).labels_\n",
    "    classDict = {label: data[label==kmLabels] for label in np.unique(kmLabels)}    \n",
    "\n",
    "    for i in classDict:\n",
    "        classDict[i] = np.matrix(classDict[i])\n",
    "        \n",
    "    return classDict\n",
    "\n",
    "KMeanDict(digitDict[9],2)"
   ]
  },
  {
   "cell_type": "code",
   "execution_count": 51,
   "metadata": {},
   "outputs": [
    {
     "name": "stdout",
     "output_type": "stream",
     "text": [
      "Shape of images matrix:  (5454, 784)\n",
      "Shape of K-Means Labels: (5454,)\n"
     ]
    }
   ],
   "source": [
    "print(\"Shape of images matrix:  {0}\".format(nImgs.shape))\n",
    "print(\"Shape of K-Means Labels: {0}\".format(kmLabels.shape))"
   ]
  },
  {
   "cell_type": "code",
   "execution_count": 52,
   "metadata": {},
   "outputs": [
    {
     "data": {
      "image/png": "[encoded data removed]",
      "text/plain": [
       "<matplotlib.figure.Figure at 0x25f19e1a710>"
      ]
     },
     "metadata": {},
     "output_type": "display_data"
    }
   ],
   "source": [
    "n = nImgs.shape[0]\n",
    "avgImg = np.dot(nImgs.T, np.ones((n,1)))/n\n",
    "\n",
    "plt.figure(figsize=(10,10))\n",
    "plt.imshow(avgImg.reshape(28,28),cmap='gray')\n",
    "plt.show()"
   ]
  },
  {
   "cell_type": "code",
   "execution_count": 53,
   "metadata": {},
   "outputs": [
    {
     "data": {
      "image/png": "[encoded data removed]",
      "text/plain": [
       "<matplotlib.figure.Figure at 0x25f19f824e0>"
      ]
     },
     "metadata": {},
     "output_type": "display_data"
    }
   ],
   "source": [
    "nImgs = classDict[0]\n",
    "n = nImgs.shape[0]\n",
    "avgImg = np.dot(nImgs.T, np.ones((n,1)))/n\n",
    "\n",
    "plt.figure(figsize=(10,10))\n",
    "plt.imshow(avgImg.reshape(28,28),cmap='gray')\n",
    "plt.show()"
   ]
  },
  {
   "cell_type": "code",
   "execution_count": 54,
   "metadata": {},
   "outputs": [
    {
     "data": {
      "image/png": "[encoded data removed]",
      "text/plain": [
       "<matplotlib.figure.Figure at 0x25f19cdacc0>"
      ]
     },
     "metadata": {},
     "output_type": "display_data"
    }
   ],
   "source": [
    "nImgs = classDict[1]\n",
    "n = nImgs.shape[0]\n",
    "avgImg = np.dot(nImgs.T, np.ones((n,1)))/n\n",
    "\n",
    "plt.figure(figsize=(10,10))\n",
    "plt.imshow(avgImg.reshape(28,28),cmap='gray')\n",
    "plt.show()"
   ]
  },
  {
   "cell_type": "code",
   "execution_count": 55,
   "metadata": {},
   "outputs": [
    {
     "data": {
      "image/png": "[encoded data removed]",
      "text/plain": [
       "<matplotlib.figure.Figure at 0x25f19d7d0b8>"
      ]
     },
     "metadata": {},
     "output_type": "display_data"
    }
   ],
   "source": [
    "nImgs = classDict[2]\n",
    "n = nImgs.shape[0]\n",
    "avgImg = np.dot(nImgs.T, np.ones((n,1)))/n\n",
    "\n",
    "plt.figure(figsize=(10,10))\n",
    "plt.imshow(avgImg.reshape(28,28),cmap='gray')\n",
    "plt.show()"
   ]
  },
  {
   "cell_type": "code",
   "execution_count": null,
   "metadata": {
    "collapsed": true
   },
   "outputs": [],
   "source": []
  }
 ],
 "metadata": {
  "kernelspec": {
   "display_name": "Python 3",
   "language": "python",
   "name": "python3"
  },
  "language_info": {
   "codemirror_mode": {
    "name": "ipython",
    "version": 3
   },
   "file_extension": ".py",
   "mimetype": "text/x-python",
   "name": "python",
   "nbconvert_exporter": "python",
   "pygments_lexer": "ipython3",
   "version": "3.5.3"
  },
  "widgets": {
   "state": {
    "32b6187ba6f04bc5a54a704cd1a9dba7": {
     "views": [
      {
       "cell_index": 11
      }
     ]
    },
    "c31be592a60e4c24820e84cb62371a0e": {
     "views": [
      {
       "cell_index": 5
      }
     ]
    }
   },
   "version": "1.2.0"
  }
 },
 "nbformat": 4,
 "nbformat_minor": 2
}
