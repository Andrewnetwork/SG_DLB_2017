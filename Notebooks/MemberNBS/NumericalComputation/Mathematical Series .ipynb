{
 "cells": [
  {
   "cell_type": "markdown",
   "metadata": {},
   "source": [
    "# Mathematical Series\n",
    "** October 2017 **\n",
    "\n",
    "** Andrew Riberio @ [AndrewRib.com](http://www.andrewrib.com) **\n",
    "\n",
    "In this notebook we will explore general properties of infinite mathematical series and particular important series such as: \n",
    "* Geometric Series\n",
    "* Harmonic Series\n",
    "* Alternating Series\n",
    "* Power Series \n",
    "* Binomial Series\n",
    "* [Taylor Series](https://en.wikipedia.org/wiki/Taylor_series)\n",
    "* Trigonometric series ( Fourier analysis )\n",
    "\n",
    "Resources:\n",
    "* https://en.wikipedia.org/wiki/Series_(mathematics)"
   ]
  },
  {
   "cell_type": "markdown",
   "metadata": {},
   "source": [
    "## Libraries"
   ]
  },
  {
   "cell_type": "code",
   "execution_count": 47,
   "metadata": {},
   "outputs": [],
   "source": [
    "import sympy as sp\n",
    "import sympy.functions.combinatorial.factorials as fact\n",
    "import matplotlib.pyplot as plt\n",
    "import numpy as np\n",
    "from IPython.display import display\n",
    "from decimal import *\n",
    "\n",
    "# Pretty Latex printing for Sympy with an argument to show the polynomials the way we write them \n",
    "# from small term to larger. May give you problems if you don't have a latex distribution. \n",
    "sp.init_printing(order='rev-lex',use_latex='mathjax')\n"
   ]
  },
  {
   "cell_type": "markdown",
   "metadata": {},
   "source": [
    "## Basic Notions"
   ]
  },
  {
   "cell_type": "markdown",
   "metadata": {},
   "source": [
    "## Taylor Series\n",
    "The taylor series is an intriguing power series that makes use of acending derivitives to approximate a function. \n",
    "Please see the [Taylor Series](https://en.wikipedia.org/wiki/Taylor_series) wiki for a formal definition. Here we will implement the taylor series function and use it to approximate various functions. "
   ]
  },
  {
   "cell_type": "code",
   "execution_count": 2,
   "metadata": {
    "collapsed": true
   },
   "outputs": [],
   "source": [
    "def taylor(fn,depth, x=None,a = None, printSteps = True):\n",
    "    # If no x or a is provided, we will be symbolically computing the taylor series. \n",
    "    if(x == None):\n",
    "        x = sp.symbols('x')\n",
    "    if(a == None):\n",
    "        a = sp.symbols('a')\n",
    "    \n",
    "    # The start of the taylor series \n",
    "    result = fn(a)\n",
    "    \n",
    "    if depth == 0:\n",
    "        return result \n",
    "    elif depth > 0:\n",
    "        cummulativeDYDX = fn(a)\n",
    "        for i in range(depth):\n",
    "            cummulativeDYDX = sp.diff(cummulativeDYDX)\n",
    "            \n",
    "            if(printSteps):\n",
    "                print(\"Derivitive of order d^{0}y/dx^[0|: {1}\".format(i+1,cummulativeDYDX))\n",
    "                      \n",
    "            result = result + (cummulativeDYDX  / fact.factorial(i+1))*(x - a)**(i+1) \n",
    "                      \n",
    "        return result\n",
    "    else:\n",
    "        # Malformed case.\n",
    "        return 0"
   ]
  },
  {
   "cell_type": "markdown",
   "metadata": {},
   "source": [
    "Consider the beloved Euler Number:  $e^{x}$. It has a most interesting taylor series. Let's show it here expanded to 5 steps. "
   ]
  },
  {
   "cell_type": "code",
   "execution_count": 3,
   "metadata": {},
   "outputs": [
    {
     "name": "stdout",
     "output_type": "stream",
     "text": [
      "Derivitive of order d^1y/dx^[0|: exp(a)\n",
      "Derivitive of order d^2y/dx^[0|: exp(a)\n",
      "Derivitive of order d^3y/dx^[0|: exp(a)\n",
      "Derivitive of order d^4y/dx^[0|: exp(a)\n",
      "Derivitive of order d^5y/dx^[0|: exp(a)\n"
     ]
    },
    {
     "data": {
      "text/latex": [
       "$$e^{a} + \\left(x - a\\right) e^{a} + \\frac{e^{a}}{2} \\left(x - a\\right)^{2} + \\frac{e^{a}}{6} \\left(x - a\\right)^{3} + \\frac{e^{a}}{24} \\left(x - a\\right)^{4} + \\frac{e^{a}}{120} \\left(x - a\\right)^{5}$$"
      ],
      "text/plain": [
       "                         2  a          3  a          4  a          5  a\n",
       " a            a   (x - a) ⋅ℯ    (x - a) ⋅ℯ    (x - a) ⋅ℯ    (x - a) ⋅ℯ \n",
       "ℯ  + (x - a)⋅ℯ  + ─────────── + ─────────── + ─────────── + ───────────\n",
       "                       2             6             24           120    "
      ]
     },
     "execution_count": 3,
     "metadata": {},
     "output_type": "execute_result"
    }
   ],
   "source": [
    "eTaylor5 = taylor(sp.exp,5)\n",
    "eTaylor5 "
   ]
  },
  {
   "cell_type": "markdown",
   "metadata": {},
   "source": [
    "As we see, one of the nifty features of the $e^{x}$ is that it is equal to its derivative. Thus, when we chain higher order derivatives of $e^{x}$, we simply get the same thing ( as shown in the printout). This leads to the simplest type of taylor series, as the derivitive term remains constant. \n",
    "\n",
    "So what does this taylor series of $e^{x}$ look like with only 5 terms? We will make use of sympy's symbolic computation abilities to substitute in values for x and a.\n",
    "\n",
    "In the case of a = 0, we get:"
   ]
  },
  {
   "cell_type": "code",
   "execution_count": 4,
   "metadata": {},
   "outputs": [
    {
     "data": {
      "text/latex": [
       "$$1 + x + \\frac{x^{2}}{2} + \\frac{x^{3}}{6} + \\frac{x^{4}}{24} + \\frac{x^{5}}{120}$$"
      ],
      "text/plain": [
       "         2    3    4     5\n",
       "        x    x    x     x \n",
       "1 + x + ── + ── + ── + ───\n",
       "        2    6    24   120"
      ]
     },
     "execution_count": 4,
     "metadata": {},
     "output_type": "execute_result"
    }
   ],
   "source": [
    "x, a = sp.symbols('x a')\n",
    "eTaylor5_0 = eTaylor5.subs(a,0)\n",
    "eTaylor5_0 "
   ]
  },
  {
   "cell_type": "markdown",
   "metadata": {},
   "source": [
    "** Theorem **: When we let a = 0, and x = 1, the taylor series as its number of terms approaches infinity = $e$ and is [the definition of $e$](https://en.wikipedia.org/wiki/Exponential_function)."
   ]
  },
  {
   "cell_type": "code",
   "execution_count": 5,
   "metadata": {},
   "outputs": [
    {
     "data": {
      "image/png": "[encoded data removed]",
      "text/plain": [
       "<matplotlib.figure.Figure at 0x178b9fac320>"
      ]
     },
     "metadata": {},
     "output_type": "display_data"
    }
   ],
   "source": [
    "xs      = np.arange(-2,4,0.1)\n",
    "ys      = np.exp(xs)\n",
    "yTaylor = []\n",
    "\n",
    "for xi in xs:\n",
    "    yTaylor.append( eTaylor5_0.subs(x,xi) )\n",
    "    \n",
    "plt.figure(figsize=(15,15)),\n",
    "plt.plot(xs,ys,color = \"blue\")\n",
    "plt.plot(xs,yTaylor,color=\"red\")\n",
    "\n",
    "plt.title(\"Value of $e$ and Taylor Series Approximation\",fontsize=20)\n",
    "plt.ylabel(\"Y\",fontsize=20)\n",
    "plt.xlabel(\"X\",fontsize=20)\n",
    "\n",
    "plt.show()"
   ]
  },
  {
   "cell_type": "markdown",
   "metadata": {},
   "source": [
    "As we see here, due to only having 5 terms in our taylor series, we get an approximation of $e^x$ with some error. As we increase our number of terms in our taylor series, we increase the approximation precision. \n",
    "\n",
    "Let's see what the value of $e$ is in our taylor series and compare that to what numpy defines $e$ as:"
   ]
  },
  {
   "cell_type": "code",
   "execution_count": 6,
   "metadata": {},
   "outputs": [
    {
     "name": "stdout",
     "output_type": "stream",
     "text": [
      "Our approximated e value: 2.716666666666667\n",
      "Numpy's approximated e value: 2.718281828459045\n",
      "Error: 0.0016151617923783057\n"
     ]
    }
   ],
   "source": [
    "res        = eTaylor5_0.subs(x,1)\n",
    "decimalVal = res.p/res.q\n",
    "npE        = np.exp(1)\n",
    "\n",
    "print(\"Our approximated e value: {0}\".format(res.p/res.q) )\n",
    "print(\"Numpy's approximated e value: {0}\".format(npE))\n",
    "print(\"Error: {0}\".format(npE - decimalVal))"
   ]
  },
  {
   "cell_type": "markdown",
   "metadata": {},
   "source": [
    "Let's beef up our taylor series to include more terms instead of the measly five we've been dealing with. We will produce 100 taylor series with a = 0, starting with a one termed taylor series to a 100 termed one. "
   ]
  },
  {
   "cell_type": "code",
   "execution_count": 35,
   "metadata": {},
   "outputs": [],
   "source": [
    "taylors = []\n",
    "for i in range(1,101):\n",
    "    taylors.append(taylor(sp.exp,i,printSteps=False))\n",
    "    taylors[i-1] = taylors[i-1].subs(a,0)"
   ]
  },
  {
   "cell_type": "markdown",
   "metadata": {},
   "source": [
    "We can pretty print one of the taylor series in the list by:"
   ]
  },
  {
   "cell_type": "code",
   "execution_count": 8,
   "metadata": {},
   "outputs": [
    {
     "data": {
      "text/latex": [
       "$$1 + x + \\frac{x^{2}}{2} + \\frac{x^{3}}{6} + \\frac{x^{4}}{24} + \\frac{x^{5}}{120}$$"
      ],
      "text/plain": [
       "         2    3    4     5\n",
       "        x    x    x     x \n",
       "1 + x + ── + ── + ── + ───\n",
       "        2    6    24   120"
      ]
     },
     "execution_count": 8,
     "metadata": {},
     "output_type": "execute_result"
    }
   ],
   "source": [
    "taylors[4]"
   ]
  },
  {
   "cell_type": "code",
   "execution_count": 23,
   "metadata": {},
   "outputs": [
    {
     "data": {
      "text/latex": [
       "$$1 + x$$"
      ],
      "text/plain": [
       "1 + x"
      ]
     },
     "metadata": {},
     "output_type": "display_data"
    },
    {
     "data": {
      "text/latex": [
       "$$1 + x + \\frac{x^{2}}{2}$$"
      ],
      "text/plain": [
       "         2\n",
       "        x \n",
       "1 + x + ──\n",
       "        2 "
      ]
     },
     "metadata": {},
     "output_type": "display_data"
    },
    {
     "data": {
      "text/latex": [
       "$$1 + x + \\frac{x^{2}}{2} + \\frac{x^{3}}{6}$$"
      ],
      "text/plain": [
       "         2    3\n",
       "        x    x \n",
       "1 + x + ── + ──\n",
       "        2    6 "
      ]
     },
     "metadata": {},
     "output_type": "display_data"
    },
    {
     "data": {
      "text/latex": [
       "$$1 + x + \\frac{x^{2}}{2} + \\frac{x^{3}}{6} + \\frac{x^{4}}{24}$$"
      ],
      "text/plain": [
       "         2    3    4\n",
       "        x    x    x \n",
       "1 + x + ── + ── + ──\n",
       "        2    6    24"
      ]
     },
     "metadata": {},
     "output_type": "display_data"
    },
    {
     "data": {
      "text/latex": [
       "$$1 + x + \\frac{x^{2}}{2} + \\frac{x^{3}}{6} + \\frac{x^{4}}{24} + \\frac{x^{5}}{120}$$"
      ],
      "text/plain": [
       "         2    3    4     5\n",
       "        x    x    x     x \n",
       "1 + x + ── + ── + ── + ───\n",
       "        2    6    24   120"
      ]
     },
     "metadata": {},
     "output_type": "display_data"
    },
    {
     "data": {
      "text/latex": [
       "$$1 + x + \\frac{x^{2}}{2} + \\frac{x^{3}}{6} + \\frac{x^{4}}{24} + \\frac{x^{5}}{120} + \\frac{x^{6}}{720}$$"
      ],
      "text/plain": [
       "         2    3    4     5     6\n",
       "        x    x    x     x     x \n",
       "1 + x + ── + ── + ── + ─── + ───\n",
       "        2    6    24   120   720"
      ]
     },
     "metadata": {},
     "output_type": "display_data"
    },
    {
     "data": {
      "text/latex": [
       "$$1 + x + \\frac{x^{2}}{2} + \\frac{x^{3}}{6} + \\frac{x^{4}}{24} + \\frac{x^{5}}{120} + \\frac{x^{6}}{720} + \\frac{x^{7}}{5040}$$"
      ],
      "text/plain": [
       "         2    3    4     5     6     7 \n",
       "        x    x    x     x     x     x  \n",
       "1 + x + ── + ── + ── + ─── + ─── + ────\n",
       "        2    6    24   120   720   5040"
      ]
     },
     "metadata": {},
     "output_type": "display_data"
    },
    {
     "data": {
      "text/latex": [
       "$$1 + x + \\frac{x^{2}}{2} + \\frac{x^{3}}{6} + \\frac{x^{4}}{24} + \\frac{x^{5}}{120} + \\frac{x^{6}}{720} + \\frac{x^{7}}{5040} + \\frac{x^{8}}{40320}$$"
      ],
      "text/plain": [
       "         2    3    4     5     6     7       8 \n",
       "        x    x    x     x     x     x       x  \n",
       "1 + x + ── + ── + ── + ─── + ─── + ──── + ─────\n",
       "        2    6    24   120   720   5040   40320"
      ]
     },
     "metadata": {},
     "output_type": "display_data"
    },
    {
     "data": {
      "text/latex": [
       "$$1 + x + \\frac{x^{2}}{2} + \\frac{x^{3}}{6} + \\frac{x^{4}}{24} + \\frac{x^{5}}{120} + \\frac{x^{6}}{720} + \\frac{x^{7}}{5040} + \\frac{x^{8}}{40320} + \\frac{x^{9}}{362880}$$"
      ],
      "text/plain": [
       "         2    3    4     5     6     7       8       9  \n",
       "        x    x    x     x     x     x       x       x   \n",
       "1 + x + ── + ── + ── + ─── + ─── + ──── + ───── + ──────\n",
       "        2    6    24   120   720   5040   40320   362880"
      ]
     },
     "metadata": {},
     "output_type": "display_data"
    },
    {
     "data": {
      "text/latex": [
       "$$1 + x + \\frac{x^{2}}{2} + \\frac{x^{3}}{6} + \\frac{x^{4}}{24} + \\frac{x^{5}}{120} + \\frac{x^{6}}{720} + \\frac{x^{7}}{5040} + \\frac{x^{8}}{40320} + \\frac{x^{9}}{362880} + \\frac{x^{10}}{3628800}$$"
      ],
      "text/plain": [
       "         2    3    4     5     6     7       8       9        10  \n",
       "        x    x    x     x     x     x       x       x        x    \n",
       "1 + x + ── + ── + ── + ─── + ─── + ──── + ───── + ────── + ───────\n",
       "        2    6    24   120   720   5040   40320   362880   3628800"
      ]
     },
     "metadata": {},
     "output_type": "display_data"
    }
   ],
   "source": [
    "# Showing the first ten taylors. There must be a better way to pretty print this. \n",
    "for i in range(0,10):\n",
    "    display(taylors[i])"
   ]
  },
  {
   "cell_type": "code",
   "execution_count": 32,
   "metadata": {},
   "outputs": [
    {
     "name": "stdout",
     "output_type": "stream",
     "text": [
      "Series with 0 terms: 2 = 2.0\n",
      "Series with 1 terms: 5/2 = 2.5\n",
      "Series with 2 terms: 8/3 = 2.6666666666666665\n",
      "Series with 3 terms: 65/24 = 2.7083333333333335\n",
      "Series with 4 terms: 163/60 = 2.716666666666667\n",
      "Series with 5 terms: 1957/720 = 2.7180555555555554\n",
      "Series with 6 terms: 685/252 = 2.7182539682539684\n",
      "Series with 7 terms: 109601/40320 = 2.71827876984127\n",
      "Series with 8 terms: 98641/36288 = 2.7182815255731922\n",
      "Series with 9 terms: 9864101/3628800 = 2.7182818011463845\n"
     ]
    }
   ],
   "source": [
    "# Showing the first ten computed rationals given x = 1\n",
    "for i in range(0,10):\n",
    "    res = taylors[i].subs(x,1)\n",
    "    print(\"Series with {0} terms: {1} = {2}\".format(i,res,res.p/res.q))"
   ]
  },
  {
   "cell_type": "markdown",
   "metadata": {},
   "source": [
    "If we proceed in this fashion, by showing the value of the taylor series rational by calling res.p/res.q, we will run up against pythons default precision for floating point numbers, and it will seem like we reach a point where adding another term to the taylor series adds no further precision. Let's show this by showing the result of the taylor series with 99 vs 98 terms:"
   ]
  },
  {
   "cell_type": "code",
   "execution_count": 46,
   "metadata": {},
   "outputs": [
    {
     "name": "stdout",
     "output_type": "stream",
     "text": [
      "Result 1:  2.718281828459045\n",
      "Result 2:  2.718281828459045\n",
      "Numpy exp: 2.718281828459045\n"
     ]
    }
   ],
   "source": [
    "r1 = taylors[99].subs(x,1)\n",
    "r2 = taylors[98].subs(x,1)\n",
    "\n",
    "print(\"Result 1:  {0}\".format(r1.p/r1.q))\n",
    "print(\"Result 2:  {0}\".format(r2.p/r2.q) )\n",
    "print(\"Numpy exp: {0}\".format(np.exp(1)))"
   ]
  },
  {
   "cell_type": "markdown",
   "metadata": {},
   "source": [
    "As we see, it shows the same value for all results. This is a result of truncation. We can use a higher precision floating point object by using the Decimal class. Let's do the same thing, but use that class. "
   ]
  },
  {
   "cell_type": "code",
   "execution_count": 54,
   "metadata": {},
   "outputs": [
    {
     "name": "stdout",
     "output_type": "stream",
     "text": [
      "Result 1:  2.718281828459045235360287471\n",
      "Result 2:  2.718281828459045235360287471\n",
      "Numpy exp: 2.718281828459045\n"
     ]
    }
   ],
   "source": [
    "r1Dec = Decimal(r1.p)/Decimal(r1.q)\n",
    "r2Dec = Decimal(r1.p)/Decimal(r1.q)\n",
    "\n",
    "print(\"Result 1:  {0}\".format(r1Dec))\n",
    "print(\"Result 2:  {0}\".format(r2Dec))\n",
    "print(\"Numpy exp: {0}\".format(np.exp(1)))"
   ]
  },
  {
   "cell_type": "markdown",
   "metadata": {},
   "source": [
    "At this point, we've computed a more precise value for $e$ than numpy by default works with, but we still don't enough precision to show the difference between the last two taylor series in our list which have 98 and 99 terms. Let's go a little deeper here. We can do arithmetic up to any precision we'd like. This is called arbitrary precision. Sympy uses a library called [mpmath](http://mpmath.org/) behind the scenes to accomplish this. \n",
    "\n",
    "See: http://docs.sympy.org/latest/modules/evalf.html"
   ]
  },
  {
   "cell_type": "code",
   "execution_count": null,
   "metadata": {
    "collapsed": true
   },
   "outputs": [],
   "source": []
  },
  {
   "cell_type": "code",
   "execution_count": 26,
   "metadata": {},
   "outputs": [
    {
     "data": {
      "text/latex": [
       "$$2$$"
      ],
      "text/plain": [
       "2"
      ]
     },
     "metadata": {},
     "output_type": "display_data"
    },
    {
     "data": {
      "text/latex": [
       "$$\\frac{5}{2}$$"
      ],
      "text/plain": [
       "5/2"
      ]
     },
     "metadata": {},
     "output_type": "display_data"
    },
    {
     "data": {
      "text/latex": [
       "$$\\frac{8}{3}$$"
      ],
      "text/plain": [
       "8/3"
      ]
     },
     "metadata": {},
     "output_type": "display_data"
    },
    {
     "data": {
      "text/latex": [
       "$$\\frac{65}{24}$$"
      ],
      "text/plain": [
       "65\n",
       "──\n",
       "24"
      ]
     },
     "metadata": {},
     "output_type": "display_data"
    },
    {
     "data": {
      "text/latex": [
       "$$\\frac{163}{60}$$"
      ],
      "text/plain": [
       "163\n",
       "───\n",
       " 60"
      ]
     },
     "metadata": {},
     "output_type": "display_data"
    },
    {
     "data": {
      "text/latex": [
       "$$\\frac{1957}{720}$$"
      ],
      "text/plain": [
       "1957\n",
       "────\n",
       "720 "
      ]
     },
     "metadata": {},
     "output_type": "display_data"
    },
    {
     "data": {
      "text/latex": [
       "$$\\frac{685}{252}$$"
      ],
      "text/plain": [
       "685\n",
       "───\n",
       "252"
      ]
     },
     "metadata": {},
     "output_type": "display_data"
    },
    {
     "data": {
      "text/latex": [
       "$$\\frac{109601}{40320}$$"
      ],
      "text/plain": [
       "109601\n",
       "──────\n",
       "40320 "
      ]
     },
     "metadata": {},
     "output_type": "display_data"
    },
    {
     "data": {
      "text/latex": [
       "$$\\frac{98641}{36288}$$"
      ],
      "text/plain": [
       "98641\n",
       "─────\n",
       "36288"
      ]
     },
     "metadata": {},
     "output_type": "display_data"
    },
    {
     "data": {
      "text/latex": [
       "$$\\frac{9864101}{3628800}$$"
      ],
      "text/plain": [
       "9864101\n",
       "───────\n",
       "3628800"
      ]
     },
     "metadata": {},
     "output_type": "display_data"
    },
    {
     "data": {
      "text/latex": [
       "$$\\frac{13563139}{4989600}$$"
      ],
      "text/plain": [
       "13563139\n",
       "────────\n",
       "4989600 "
      ]
     },
     "metadata": {},
     "output_type": "display_data"
    },
    {
     "data": {
      "text/latex": [
       "$$\\frac{260412269}{95800320}$$"
      ],
      "text/plain": [
       "260412269\n",
       "─────────\n",
       " 95800320"
      ]
     },
     "metadata": {},
     "output_type": "display_data"
    },
    {
     "data": {
      "text/latex": [
       "$$\\frac{8463398743}{3113510400}$$"
      ],
      "text/plain": [
       "8463398743\n",
       "──────────\n",
       "3113510400"
      ]
     },
     "metadata": {},
     "output_type": "display_data"
    },
    {
     "data": {
      "text/latex": [
       "$$\\frac{47395032961}{17435658240}$$"
      ],
      "text/plain": [
       "47395032961\n",
       "───────────\n",
       "17435658240"
      ]
     },
     "metadata": {},
     "output_type": "display_data"
    },
    {
     "data": {
      "text/latex": [
       "$$\\frac{888656868019}{326918592000}$$"
      ],
      "text/plain": [
       "888656868019\n",
       "────────────\n",
       "326918592000"
      ]
     },
     "metadata": {},
     "output_type": "display_data"
    },
    {
     "data": {
      "text/latex": [
       "$$\\frac{56874039553217}{20922789888000}$$"
      ],
      "text/plain": [
       "56874039553217\n",
       "──────────────\n",
       "20922789888000"
      ]
     },
     "metadata": {},
     "output_type": "display_data"
    },
    {
     "data": {
      "text/latex": [
       "$$\\frac{7437374403113}{2736057139200}$$"
      ],
      "text/plain": [
       "7437374403113\n",
       "─────────────\n",
       "2736057139200"
      ]
     },
     "metadata": {},
     "output_type": "display_data"
    },
    {
     "data": {
      "text/latex": [
       "$$\\frac{17403456103284421}{6402373705728000}$$"
      ],
      "text/plain": [
       "17403456103284421\n",
       "─────────────────\n",
       " 6402373705728000"
      ]
     },
     "metadata": {},
     "output_type": "display_data"
    },
    {
     "data": {
      "text/latex": [
       "$$\\frac{82666416490601}{30411275102208}$$"
      ],
      "text/plain": [
       "82666416490601\n",
       "──────────────\n",
       "30411275102208"
      ]
     },
     "metadata": {},
     "output_type": "display_data"
    },
    {
     "data": {
      "text/latex": [
       "$$\\frac{6613313319248080001}{2432902008176640000}$$"
      ],
      "text/plain": [
       "6613313319248080001\n",
       "───────────────────\n",
       "2432902008176640000"
      ]
     },
     "metadata": {},
     "output_type": "display_data"
    },
    {
     "data": {
      "text/latex": [
       "$$\\frac{69439789852104840011}{25545471085854720000}$$"
      ],
      "text/plain": [
       "69439789852104840011\n",
       "────────────────────\n",
       "25545471085854720000"
      ]
     },
     "metadata": {},
     "output_type": "display_data"
    },
    {
     "data": {
      "text/latex": [
       "$$\\frac{611070150698522592097}{224800145555521536000}$$"
      ],
      "text/plain": [
       "611070150698522592097\n",
       "─────────────────────\n",
       "224800145555521536000"
      ]
     },
     "metadata": {},
     "output_type": "display_data"
    },
    {
     "data": {
      "text/latex": [
       "$$\\frac{1351405140967886501753}{497154168055480320000}$$"
      ],
      "text/plain": [
       "1351405140967886501753\n",
       "──────────────────────\n",
       "497154168055480320000 "
      ]
     },
     "metadata": {},
     "output_type": "display_data"
    },
    {
     "data": {
      "text/latex": [
       "$$\\frac{337310723185584470837549}{124089680346647887872000}$$"
      ],
      "text/plain": [
       "337310723185584470837549\n",
       "────────────────────────\n",
       "124089680346647887872000"
      ]
     },
     "metadata": {},
     "output_type": "display_data"
    },
    {
     "data": {
      "text/latex": [
       "$$\\frac{85351903640077042215979}{31399210614030336000000}$$"
      ],
      "text/plain": [
       "85351903640077042215979\n",
       "───────────────────────\n",
       "31399210614030336000000"
      ]
     },
     "metadata": {},
     "output_type": "display_data"
    },
    {
     "data": {
      "text/latex": [
       "$$\\frac{1096259850353149530222034277}{403291461126605635584000000}$$"
      ],
      "text/plain": [
       "1096259850353149530222034277\n",
       "────────────────────────────\n",
       "403291461126605635584000000 "
      ]
     },
     "metadata": {},
     "output_type": "display_data"
    },
    {
     "data": {
      "text/latex": [
       "$$\\frac{739975398988375932899873137}{272221736260458804019200000}$$"
      ],
      "text/plain": [
       "739975398988375932899873137\n",
       "───────────────────────────\n",
       "272221736260458804019200000"
      ]
     },
     "metadata": {},
     "output_type": "display_data"
    },
    {
     "data": {
      "text/latex": [
       "$$\\frac{828772446866981044847857913441}{304888344611713860501504000000}$$"
      ],
      "text/plain": [
       "828772446866981044847857913441\n",
       "──────────────────────────────\n",
       "304888344611713860501504000000"
      ]
     },
     "metadata": {},
     "output_type": "display_data"
    },
    {
     "data": {
      "text/latex": [
       "$$\\frac{2403440095914245030058787948979}{884176199373970195454361600000}$$"
      ],
      "text/plain": [
       "2403440095914245030058787948979\n",
       "───────────────────────────────\n",
       " 884176199373970195454361600000"
      ]
     },
     "metadata": {},
     "output_type": "display_data"
    },
    {
     "data": {
      "text/latex": [
       "$$\\frac{55464002213405654539818183437977}{20404066139399312202792960000000}$$"
      ],
      "text/plain": [
       "55464002213405654539818183437977\n",
       "────────────────────────────────\n",
       "20404066139399312202792960000000"
      ]
     },
     "metadata": {},
     "output_type": "display_data"
    },
    {
     "data": {
      "text/latex": [
       "$$\\frac{5587998223000619694886681981376183}{2055709663544480704431390720000000}$$"
      ],
      "text/plain": [
       "5587998223000619694886681981376183\n",
       "──────────────────────────────────\n",
       "2055709663544480704431390720000000"
      ]
     },
     "metadata": {},
     "output_type": "display_data"
    },
    {
     "data": {
      "text/latex": [
       "$$\\frac{28610550901763172837819811744646057}{10525233477347741206688720486400000}$$"
      ],
      "text/plain": [
       "28610550901763172837819811744646057\n",
       "───────────────────────────────────\n",
       "10525233477347741206688720486400000"
      ]
     },
     "metadata": {},
     "output_type": "display_data"
    },
    {
     "data": {
      "text/latex": [
       "$$\\frac{621150118261963620821088018140342027}{228508358389786486724163010560000000}$$"
      ],
      "text/plain": [
       "621150118261963620821088018140342027\n",
       "────────────────────────────────────\n",
       "228508358389786486724163010560000000"
      ]
     },
     "metadata": {},
     "output_type": "display_data"
    },
    {
     "data": {
      "text/latex": [
       "$$\\frac{160505190558891399620169143887464379777}{59046559807920828169523721928704000000}$$"
      ],
      "text/plain": [
       "160505190558891399620169143887464379777\n",
       "───────────────────────────────────────\n",
       " 59046559807920828169523721928704000000"
      ]
     },
     "metadata": {},
     "output_type": "display_data"
    },
    {
     "data": {
      "text/latex": [
       "$$\\frac{1755525521737874683345600011269141653811}{645821747899134058104165708595200000000}$$"
      ],
      "text/plain": [
       "1755525521737874683345600011269141653811\n",
       "────────────────────────────────────────\n",
       "645821747899134058104165708595200000000 "
      ]
     },
     "metadata": {},
     "output_type": "display_data"
    },
    {
     "data": {
      "text/latex": [
       "$$\\frac{77783284655462755200543508191617353276549}{28614871291530862882153803703910400000000}$$"
      ],
      "text/plain": [
       "77783284655462755200543508191617353276549\n",
       "─────────────────────────────────────────\n",
       "28614871291530862882153803703910400000000"
      ]
     },
     "metadata": {},
     "output_type": "display_data"
    },
    {
     "data": {
      "text/latex": [
       "$$\\frac{162668521388163414136788814957251943156609}{59842404744462369766591215572090880000000}$$"
      ],
      "text/plain": [
       "162668521388163414136788814957251943156609\n",
       "──────────────────────────────────────────\n",
       "59842404744462369766591215572090880000000 "
      ]
     },
     "metadata": {},
     "output_type": "display_data"
    },
    {
     "data": {
      "text/latex": [
       "$$\\frac{109363298225580633811964172517413998706827897}{40232509035892393212308248007698022400000000}$$"
      ],
      "text/plain": [
       "109363298225580633811964172517413998706827897\n",
       "─────────────────────────────────────────────\n",
       " 40232509035892393212308248007698022400000000"
      ]
     },
     "metadata": {},
     "output_type": "display_data"
    },
    {
     "data": {
      "text/latex": [
       "$$\\frac{2772359610018469067133291773316444867218087189}{1019894104059872167932014086995144867840000000}$$"
      ],
      "text/plain": [
       "2772359610018469067133291773316444867218087189\n",
       "──────────────────────────────────────────────\n",
       "1019894104059872167932014086995144867840000000"
      ]
     },
     "metadata": {},
     "output_type": "display_data"
    },
    {
     "data": {
      "text/latex": [
       "$$\\frac{2217887688014775253706633418653155893774469751201}{815915283247897734345611269596115894272000000000}$$"
      ],
      "text/plain": [
       "2217887688014775253706633418653155893774469751201\n",
       "─────────────────────────────────────────────────\n",
       " 815915283247897734345611269596115894272000000000"
      ]
     },
     "metadata": {},
     "output_type": "display_data"
    },
    {
     "data": {
      "text/latex": [
       "$$\\frac{1976812939317517073955912394886508514016375213027}{727228839416604502351523088118277210112000000000}$$"
      ],
      "text/plain": [
       "1976812939317517073955912394886508514016375213027\n",
       "─────────────────────────────────────────────────\n",
       " 727228839416604502351523088118277210112000000000"
      ]
     },
     "metadata": {},
     "output_type": "display_data"
    },
    {
     "data": {
      "text/latex": [
       "$$\\frac{763840519752288597376564549384146889815927382313633}{281001223550575979708628521248902313987276800000000}$$"
      ],
      "text/plain": [
       "763840519752288597376564549384146889815927382313633\n",
       "───────────────────────────────────────────────────\n",
       "281001223550575979708628521248902313987276800000000"
      ]
     },
     "metadata": {},
     "output_type": "display_data"
    },
    {
     "data": {
      "text/latex": [
       "$$\\frac{1579093382180212004191936328053765204907926799975299}{580915990993979188820722423735711514492928000000000}$$"
      ],
      "text/plain": [
       "1579093382180212004191936328053765204907926799975299\n",
       "────────────────────────────────────────────────────\n",
       "580915990993979188820722423735711514492928000000000 "
      ]
     },
     "metadata": {},
     "output_type": "display_data"
    },
    {
     "data": {
      "text/latex": [
       "$$\\frac{15212486982856105539331159236155851742439311656183091}{5596361210080944774828685917925507137515028480000000}$$"
      ],
      "text/plain": [
       "15212486982856105539331159236155851742439311656183091\n",
       "─────────────────────────────────────────────────────\n",
       " 5596361210080944774828685917925507137515028480000000"
      ]
     },
     "metadata": {},
     "output_type": "display_data"
    },
    {
     "data": {
      "text/latex": [
       "$$\\frac{5244627568686278321019411752787602112816778816950218873}{1929390659120648299386502604768672823619092480000000000}$$"
      ],
      "text/plain": [
       "5244627568686278321019411752787602112816778816950218873\n",
       "───────────────────────────────────────────────────────\n",
       "1929390659120648299386502604768672823619092480000000000"
      ]
     },
     "metadata": {},
     "output_type": "display_data"
    },
    {
     "data": {
      "text/latex": [
       "$$\\frac{14957677825893265771547362318950241225753453185942024225797}{5502622159812088949850305428800254892961651752960000000000}$$"
      ],
      "text/plain": [
       "14957677825893265771547362318950241225753453185942024225797\n",
       "───────────────────────────────────────────────────────────\n",
       " 5502622159812088949850305428800254892961651752960000000000"
      ]
     },
     "metadata": {},
     "output_type": "display_data"
    },
    {
     "data": {
      "text/latex": [
       "$$\\frac{35150542890849174563136301449533066880520614986963756930623}{12931162075558409032148217757680598998459881619456000000000}$$"
      ],
      "text/plain": [
       "35150542890849174563136301449533066880520614986963756930623\n",
       "───────────────────────────────────────────────────────────\n",
       "12931162075558409032148217757680598998459881619456000000000"
      ]
     },
     "metadata": {},
     "output_type": "display_data"
    },
    {
     "data": {
      "text/latex": [
       "$$\\frac{33744521175215207580610849391551744205299790387485206653398081}{12413915592536072670862289047373375038521486354677760000000000}$$"
      ],
      "text/plain": [
       "33744521175215207580610849391551744205299790387485206653398081\n",
       "──────────────────────────────────────────────────────────────\n",
       "12413915592536072670862289047373375038521486354677760000000000"
      ]
     },
     "metadata": {},
     "output_type": "display_data"
    },
    {
     "data": {
      "text/latex": [
       "$$\\frac{12719088750658039780384089386046426661997613299898270200126969}{4679091261802058160555785871702272129904252549070848000000000}$$"
      ],
      "text/plain": [
       "12719088750658039780384089386046426661997613299898270200126969\n",
       "──────────────────────────────────────────────────────────────\n",
       "4679091261802058160555785871702272129904252549070848000000000 "
      ]
     },
     "metadata": {},
     "output_type": "display_data"
    },
    {
     "data": {
      "text/latex": [
       "$$\\frac{2666905705783137373306341322880702364612402788688346977445977371}{981099780700431549793955102131121575625085211901952000000000000}$$"
      ],
      "text/plain": [
       "2666905705783137373306341322880702364612402788688346977445977371\n",
       "────────────────────────────────────────────────────────────────\n",
       "981099780700431549793955102131121575625085211901952000000000000 "
      ]
     },
     "metadata": {},
     "output_type": "display_data"
    },
    {
     "data": {
      "text/latex": [
       "$$\\frac{5067761924090312724996785614752873123139674049178217032863089211}{1864325424624257548346445933256374051758725625020416000000000000}$$"
      ],
      "text/plain": [
       "5067761924090312724996785614752873123139674049178217032863089211\n",
       "────────────────────────────────────────────────────────────────\n",
       "1864325424624257548346445933256374051758725625020416000000000000"
      ]
     },
     "metadata": {},
     "output_type": "display_data"
    },
    {
     "data": {
      "text/latex": [
       "$$\\frac{79583176727347836564160048216576516442655120894245510602464134891}{29277014581104856105865929893431494364896372210846924800000000000}$$"
      ],
      "text/plain": [
       "79583176727347836564160048216576516442655120894245510602464134891\n",
       "─────────────────────────────────────────────────────────────────\n",
       "29277014581104856105865929893431494364896372210846924800000000000"
      ]
     },
     "metadata": {},
     "output_type": "display_data"
    },
    {
     "data": {
      "text/latex": [
       "$$\\frac{157031588511401275079943641085721892545598479423962949062416225082559}{57768693027838183301324510180937833103923564707659644928000000000000}$$"
      ],
      "text/plain": [
       "157031588511401275079943641085721892545598479423962949062416225082559\n",
       "─────────────────────────────────────────────────────────────────────\n",
       " 57768693027838183301324510180937833103923564707659644928000000000000"
      ]
     },
     "metadata": {},
     "output_type": "display_data"
    },
    {
     "data": {
      "text/latex": [
       "$$\\frac{125499645538311899043890957955708936522442304755631188890683047085981153}{46168739467848276094418548536605516216655712914361588226457600000000000}$$"
      ],
      "text/plain": [
       "125499645538311899043890957955708936522442304755631188890683047085981153\n",
       "────────────────────────────────────────────────────────────────────────\n",
       "46168739467848276094418548536605516216655712914361588226457600000000000 "
      ]
     },
     "metadata": {},
     "output_type": "display_data"
    },
    {
     "data": {
      "text/latex": [
       "$$\\frac{8628100630758943059267503359454989385917908451949644236234459487161204269}{3174100838414568981491275211891629239895080262862359190568960000000000000}$$"
      ],
      "text/plain": [
       "8628100630758943059267503359454989385917908451949644236234459487161204269\n",
       "─────────────────────────────────────────────────────────────────────────\n",
       "3174100838414568981491275211891629239895080262862359190568960000000000000"
      ]
     },
     "metadata": {},
     "output_type": "display_data"
    },
    {
     "data": {
      "text/latex": [
       "$$\\frac{148668810868461788098147750193685970957354730248978485301270686548008442789}{54692199061912573219541972881824996133576767606243727591342080000000000000}$$"
      ],
      "text/plain": [
       "148668810868461788098147750193685970957354730248978485301270686548008442789\n",
       "───────────────────────────────────────────────────────────────────────────\n",
       " 54692199061912573219541972881824996133576767606243727591342080000000000000"
      ]
     },
     "metadata": {},
     "output_type": "display_data"
    },
    {
     "data": {
      "text/latex": [
       "$$\\frac{2203271777070603699614549657870426089587997102289861152164831574641485122133}{810538390097544335113612038108646442699607695924532042903689625600000000000}$$"
      ],
      "text/plain": [
       "2203271777070603699614549657870426089587997102289861152164831574641485122133\n",
       "────────────────────────────────────────────────────────────────────────────\n",
       "810538390097544335113612038108646442699607695924532042903689625600000000000 "
      ]
     },
     "metadata": {},
     "output_type": "display_data"
    },
    {
     "data": {
      "text/latex": [
       "$$\\frac{6389488153504750728882194007824235659805191596640597341278011566460306854185701}{2350561331282878571829474910515074683828862318181142924420699914240000000000000}$$"
      ],
      "text/plain": [
       "638948815350475072888219400782423565980519159664059734127801156646030685418570\n",
       "──────────────────────────────────────────────────────────────────────────────\n",
       "235056133128287857182947491051507468382886231818114292442069991424000000000000\n",
       "\n",
       "1\n",
       "─\n",
       "0"
      ]
     },
     "metadata": {},
     "output_type": "display_data"
    },
    {
     "data": {
      "text/latex": [
       "$$\\frac{9424495026419507325101236161540747598212657605044881078385067060528952609923909}{3467077963642245893448475493009735158647571919317185813520532373504000000000000}$$"
      ],
      "text/plain": [
       "942449502641950732510123616154074759821265760504488107838506706052895260992390\n",
       "──────────────────────────────────────────────────────────────────────────────\n",
       "346707796364224589344847549300973515864757191931718581352053237350400000000000\n",
       "\n",
       "9\n",
       "─\n",
       "0"
      ]
     },
     "metadata": {},
     "output_type": "display_data"
    },
    {
     "data": {
      "text/latex": [
       "$$\\frac{983425567974209460010563773378164966770016445743813677744528736750847228861625287}{361782048380060441055493094922754973076268374189619389236925117235200000000000000}$$"
      ],
      "text/plain": [
       "983425567974209460010563773378164966770016445743813677744528736750847228861625\n",
       "──────────────────────────────────────────────────────────────────────────────\n",
       "361782048380060441055493094922754973076268374189619389236925117235200000000000\n",
       "\n",
       "287\n",
       "───\n",
       "000"
      ]
     },
     "metadata": {},
     "output_type": "display_data"
    },
    {
     "data": {
      "text/latex": [
       "$$\\frac{689873035933907936197410487024782724189166536689285294937786908830719331046430138831}{253790106938612399400428406088312613613002264494018001549702969740492800000000000000}$$"
      ],
      "text/plain": [
       "689873035933907936197410487024782724189166536689285294937786908830719331046430\n",
       "──────────────────────────────────────────────────────────────────────────────\n",
       "253790106938612399400428406088312613613002264494018001549702969740492800000000\n",
       "\n",
       "138831\n",
       "──────\n",
       "000000"
      ]
     },
     "metadata": {},
     "output_type": "display_data"
    },
    {
     "data": {
      "text/latex": [
       "$$\\frac{30606174045010584647040751481600378461344061019488864605468900427552485527641265551}{11259382204074396252469811218229253698752157709215825471256947494748160000000000000}$$"
      ],
      "text/plain": [
       "306061740450105846470407514816003784613440610194888646054689004275524855276412\n",
       "──────────────────────────────────────────────────────────────────────────────\n",
       "112593822040743962524698112182292536987521577092158254712569474947481600000000\n",
       "\n",
       "65551\n",
       "─────\n",
       "00000"
      ]
     },
     "metadata": {},
     "output_type": "display_data"
    },
    {
     "data": {
      "text/latex": [
       "$$\\frac{70911686272574852599660141113652666333760118218640746369131464891915518607035687428261}{26086951518479474527844035636340764967694390660885113527714205258062233600000000000000}$$"
      ],
      "text/plain": [
       "709116862725748525996601411136526663337601182186407463691314648919155186070356\n",
       "──────────────────────────────────────────────────────────────────────────────\n",
       "260869515184794745278440356363407649676943906608851135277142052580622336000000\n",
       "\n",
       "87428261\n",
       "────────\n",
       "00000000"
      ]
     },
     "metadata": {},
     "output_type": "display_data"
    },
    {
     "data": {
      "text/latex": [
       "$$\\frac{10030956580770803636607442965735249935943266395680342891942865936724649774745429217713}{3690182701348965074987156880475831926795565396962198406246965082891223040000000000000}$$"
      ],
      "text/plain": [
       "100309565807708036366074429657352499359432663956803428919428659367246497747454\n",
       "──────────────────────────────────────────────────────────────────────────────\n",
       "369018270134896507498715688047583192679556539696219840624696508289122304000000\n",
       "\n",
       "29217713\n",
       "────────\n",
       "0000000 "
      ]
     },
     "metadata": {},
     "output_type": "display_data"
    },
    {
     "data": {
      "text/latex": [
       "$$\\frac{11209719365968632698954275107246213494040799488002729186032301970114005181400201468659498913}{4123825296041235333361585153392748126093129275672718746461061567194477887488000000000000000}$$"
      ],
      "text/plain": [
       "112097193659686326989542751072462134940407994880027291860323019701140051814002\n",
       "──────────────────────────────────────────────────────────────────────────────\n",
       "412382529604123533336158515339274812609312927567271874646106156719447788748800\n",
       "\n",
       "01468659498913\n",
       "──────────────\n",
       "0000000000000 "
      ]
     },
     "metadata": {},
     "output_type": "display_data"
    },
    {
     "data": {
      "text/latex": [
       "$$\\frac{1479682956307859516261964314156500181213385532416360252556263860055048683944826593863053856517}{544344939077443064003729240247842752644293064388798874532860126869671081148416000000000000000}$$"
      ],
      "text/plain": [
       "147968295630785951626196431415650018121338553241636025255626386005504868394482\n",
       "──────────────────────────────────────────────────────────────────────────────\n",
       "544344939077443064003729240247842752644293064388798874532860126869671081148416\n",
       "\n",
       "6593863053856517\n",
       "────────────────\n",
       "000000000000000 "
      ]
     },
     "metadata": {},
     "output_type": "display_data"
    },
    {
     "data": {
      "text/latex": [
       "$$\\frac{1239234475907832344869395113106068901766210383398701711515870982796103272803792272360307604833}{455888886477358566103123238707568305339595441425619057421270356253349530461798400000000000000}$$"
      ],
      "text/plain": [
       "123923447590783234486939511310606890176621038339870171151587098279610327280379\n",
       "──────────────────────────────────────────────────────────────────────────────\n",
       "455888886477358566103123238707568305339595441425619057421270356253349530461798\n",
       "\n",
       "2272360307604833\n",
       "────────────────\n",
       "400000000000000 "
      ]
     },
     "metadata": {},
     "output_type": "display_data"
    },
    {
     "data": {
      "text/latex": [
       "$$\\frac{6741435548938607956089509415297014825608184485688937310646338146410801804052629961640073370291521}{2480035542436830599600990418569171581047399201355367672371710738018221445712183296000000000000000}$$"
      ],
      "text/plain": [
       "674143554893860795608950941529701482560818448568893731064633814641080180405262\n",
       "──────────────────────────────────────────────────────────────────────────────\n",
       "248003554243683059960099041856917158104739920135536767237171073801822144571218\n",
       "\n",
       "9961640073370291521\n",
       "───────────────────\n",
       "3296000000000000000"
      ]
     },
     "metadata": {},
     "output_type": "display_data"
    },
    {
     "data": {
      "text/latex": [
       "$$\\frac{715629312118098383031040230239221573795330353096210268360918972465146653045586872851023173154023}{263265311427909709803797444432727444757339299836185183682535447574241968852524072960000000000000}$$"
      ],
      "text/plain": [
       "715629312118098383031040230239221573795330353096210268360918972465146653045586\n",
       "──────────────────────────────────────────────────────────────────────────────\n",
       "263265311427909709803797444432727444757339299836185183682535447574241968852524\n",
       "\n",
       "872851023173154023\n",
       "──────────────────\n",
       "072960000000000000"
      ]
     },
     "metadata": {},
     "output_type": "display_data"
    },
    {
     "data": {
      "text/latex": [
       "$$\\frac{32561133701373476427912330475884581607687531065877567210421813247164172713574202714721554378508046501}{11978571669969891796072783721689098736458938142546425857555362864628009582789845319680000000000000000}$$"
      ],
      "text/plain": [
       "325611337013734764279123304758845816076875310658775672104218132471641727135742\n",
       "──────────────────────────────────────────────────────────────────────────────\n",
       "119785716699698917960727837216890987364589381425464258575553628646280095827898\n",
       "\n",
       "02714721554378508046501\n",
       "───────────────────────\n",
       "45319680000000000000000"
      ]
     },
     "metadata": {},
     "output_type": "display_data"
    },
    {
     "data": {
      "text/latex": [
       "$$\\frac{822133887908078530007743763793671868472907078832612827859156735614742625413857892156909801164321231}{302446155251729131408665591834966575493806759644664379760466132072755576236870205440000000000000000}$$"
      ],
      "text/plain": [
       "822133887908078530007743763793671868472907078832612827859156735614742625413857\n",
       "──────────────────────────────────────────────────────────────────────────────\n",
       "302446155251729131408665591834966575493806759644664379760466132072755576236870\n",
       "\n",
       "892156909801164321231\n",
       "─────────────────────\n",
       "205440000000000000000"
      ]
     },
     "metadata": {},
     "output_type": "display_data"
    },
    {
     "data": {
      "text/latex": [
       "$$\\frac{33290503096284242299897566678544396235699731761753224715935261863900650182358264855531317196586626742637}{12246891675377217372304814077054934548155618356939465796764602992795676997444337854840832000000000000000}$$"
      ],
      "text/plain": [
       "332905030962842422998975666785443962356997317617532247159352618639006501823582\n",
       "──────────────────────────────────────────────────────────────────────────────\n",
       "122468916753772173723048140770549345481556183569394657967646029927956769974443\n",
       "\n",
       "64855531317196586626742637\n",
       "──────────────────────────\n",
       "37854840832000000000000000"
      ]
     },
     "metadata": {},
     "output_type": "display_data"
    },
    {
     "data": {
      "text/latex": [
       "$$\\frac{164203157164104708641386646454982494946356785041080094882653656490861315088659009084715280766947550825169}{60406965696117355957989961326014204190227036490309527240798379626627325730637612392120320000000000000000}$$"
      ],
      "text/plain": [
       "164203157164104708641386646454982494946356785041080094882653656490861315088659\n",
       "──────────────────────────────────────────────────────────────────────────────\n",
       " 60406965696117355957989961326014204190227036490309527240798379626627325730637\n",
       "\n",
       "009084715280766947550825169\n",
       "───────────────────────────\n",
       "612392120320000000000000000"
      ]
     },
     "metadata": {},
     "output_type": "display_data"
    },
    {
     "data": {
      "text/latex": [
       "$$\\frac{179835297726127476904046655197496828465249950976990919915482284588791312285099346749580175495960957663725089}{66157708830387728245190605644250756429136650364186994234122385367082247140194313091850174464000000000000000}$$"
      ],
      "text/plain": [
       "179835297726127476904046655197496828465249950976990919915482284588791312285099\n",
       "──────────────────────────────────────────────────────────────────────────────\n",
       "661577088303877282451906056442507564291366503641869942341223853670822471401943\n",
       "\n",
       "346749580175495960957663725089\n",
       "──────────────────────────────\n",
       "13091850174464000000000000000 "
      ]
     },
     "metadata": {},
     "output_type": "display_data"
    },
    {
     "data": {
      "text/latex": [
       "$$\\frac{49880352549776482129450810428299786001825984923351771426261728343784572564284212301103968795107514144894163}{18349956221446300363865737512273693536188050211960150027955543278591599613589398971482112000000000000000000}$$"
      ],
      "text/plain": [
       "498803525497764821294508104282997860018259849233517714262617283437845725642842\n",
       "──────────────────────────────────────────────────────────────────────────────\n",
       "183499562214463003638657375122736935361880502119601500279555432785915996135893\n",
       "\n",
       "12301103968795107514144894163\n",
       "─────────────────────────────\n",
       "98971482112000000000000000000"
      ]
     },
     "metadata": {},
     "output_type": "display_data"
    },
    {
     "data": {
      "text/latex": [
       "$$\\frac{165332451135310744895655795907376116492245922672394877986814358412275883875010689753646290375318944948908549567}{60822409731162911451223621318101501878399823721913849537822192998769162693404449132829999104000000000000000000}$$"
      ],
      "text/plain": [
       "165332451135310744895655795907376116492245922672394877986814358412275883875010\n",
       "──────────────────────────────────────────────────────────────────────────────\n",
       " 60822409731162911451223621318101501878399823721913849537822192998769162693404\n",
       "\n",
       "689753646290375318944948908549567\n",
       "─────────────────────────────────\n",
       "449132829999104000000000000000000"
      ]
     },
     "metadata": {},
     "output_type": "display_data"
    },
    {
     "data": {
      "text/latex": [
       "$$\\frac{3035758160461436523584079883314667615899930903223127490419429796385404113920388588015028424045279396869574675511}{1116793015602198997185159877586986807567233686340064298821396728369707625762741692923578522009600000000000000000}$$"
      ],
      "text/plain": [
       "303575816046143652358407988331466761589993090322312749041942979638540411392038\n",
       "──────────────────────────────────────────────────────────────────────────────\n",
       "111679301560219899718515987758698680756723368634006429882139672836970762576274\n",
       "\n",
       "8588015028424045279396869574675511\n",
       "──────────────────────────────────\n",
       "1692923578522009600000000000000000"
      ]
     },
     "metadata": {},
     "output_type": "display_data"
    },
    {
     "data": {
      "text/latex": [
       "$$\\frac{750794823099486984125428536995383649395739008748353969581780930130438968662261958109082639507783733762377736821501}{276201979956251166620915150212976737286140233646054926586560068918752081103273189420611858857984000000000000000000}$$"
      ],
      "text/plain": [
       "750794823099486984125428536995383649395739008748353969581780930130438968662261\n",
       "──────────────────────────────────────────────────────────────────────────────\n",
       "276201979956251166620915150212976737286140233646054926586560068918752081103273\n",
       "\n",
       "958109082639507783733762377736821501\n",
       "────────────────────────────────────\n",
       "189420611858857984000000000000000000"
      ]
     },
     "metadata": {},
     "output_type": "display_data"
    },
    {
     "data": {
      "text/latex": [
       "$$\\frac{121591221600961917079113151566402382019639932466795925373769421634624590974853324115765933468285575682817074478242087}{44730910653914876434257208576991582603490410838978595360693403161391899534675093026668090542050508800000000000000000}$$"
      ],
      "text/plain": [
       "121591221600961917079113151566402382019639932466795925373769421634624590974853\n",
       "──────────────────────────────────────────────────────────────────────────────\n",
       " 44730910653914876434257208576991582603490410838978595360693403161391899534675\n",
       "\n",
       "324115765933468285575682817074478242087\n",
       "───────────────────────────────────────\n",
       "093026668090542050508800000000000000000"
      ]
     },
     "metadata": {},
     "output_type": "display_data"
    },
    {
     "data": {
      "text/latex": [
       "$$\\frac{194545954561539067326581042506243811231423891946873480598031074615399345559765318585225493549256921092507319165187339201}{71569457046263802294811533723186532165584657342365752577109445058227039255480148842668944867280814080000000000000000000}$$"
      ],
      "text/plain": [
       "194545954561539067326581042506243811231423891946873480598031074615399345559765\n",
       "──────────────────────────────────────────────────────────────────────────────\n",
       "715694570462638022948115337231865321655846573423657525771094450582270392554801\n",
       "\n",
       "318585225493549256921092507319165187339201\n",
       "──────────────────────────────────────────\n",
       "48842668944867280814080000000000000000000 "
      ]
     },
     "metadata": {},
     "output_type": "display_data"
    },
    {
     "data": {
      "text/latex": [
       "$$\\frac{123440930607440696653974403821192159596306813890995879055292398783055875780139049690605093119818660863346541950995429}{45411380569548073648966255397845094748565364056554434181530848436575774175483652072382338233794560000000000000000000}$$"
      ],
      "text/plain": [
       "123440930607440696653974403821192159596306813890995879055292398783055875780139\n",
       "──────────────────────────────────────────────────────────────────────────────\n",
       " 45411380569548073648966255397845094748565364056554434181530848436575774175483\n",
       "\n",
       "049690605093119818660863346541950995429\n",
       "───────────────────────────────────────\n",
       "652072382338233794560000000000000000000"
      ]
     },
     "metadata": {},
     "output_type": "display_data"
    },
    {
     "data": {
      "text/latex": [
       "$$\\frac{8370359385896307596328105485515604172949748925092363777374072211144825607824850176797199858488514784754225838997080531}{3079283133287670768208182717340274958016604334043681480920880544626681747270601772391949031957759787008000000000000000}$$"
      ],
      "text/plain": [
       "837035938589630759632810548551560417294974892509236377737407221114482560782485\n",
       "──────────────────────────────────────────────────────────────────────────────\n",
       "307928313328767076820818271734027495801660433404368148092088054462668174727060\n",
       "\n",
       "0176797199858488514784754225838997080531\n",
       "────────────────────────────────────────\n",
       "1772391949031957759787008000000000000000"
      ]
     },
     "metadata": {},
     "output_type": "display_data"
    },
    {
     "data": {
      "text/latex": [
       "$$\\frac{145720735198930198736686897553121094726259173499760996773051846467968809261223890518443779126081047556255421132200363422241}{53607662632074166456382433668642133928582205716906856352207007511371945058419333335434228179488819118080000000000000000000}$$"
      ],
      "text/plain": [
       "145720735198930198736686897553121094726259173499760996773051846467968809261223\n",
       "──────────────────────────────────────────────────────────────────────────────\n",
       " 53607662632074166456382433668642133928582205716906856352207007511371945058419\n",
       "\n",
       "890518443779126081047556255421132200363422241\n",
       "─────────────────────────────────────────────\n",
       "333335434228179488819118080000000000000000000"
      ]
     },
     "metadata": {},
     "output_type": "display_data"
    },
    {
     "data": {
      "text/latex": [
       "$$\\frac{1801807746587732121339386150864831712071249428489844772899431471207140732753181161482453640138166936823587031215431053643325517}{662848026913070653399877515826026257600133257248409897423769206476611826258343372825977144593743350631235584000000000000000000}$$"
      ],
      "text/plain": [
       "180180774658773212133938615086483171207124942848984477289943147120714073275318\n",
       "──────────────────────────────────────────────────────────────────────────────\n",
       " 66284802691307065339987751582602625760013325724840989742376920647661182625834\n",
       "\n",
       "1161482453640138166936823587031215431053643325517\n",
       "─────────────────────────────────────────────────\n",
       "3372825977144593743350631235584000000000000000000"
      ]
     },
     "metadata": {},
     "output_type": "display_data"
    },
    {
     "data": {
      "text/latex": [
       "$$\\frac{382884146149893075784619557058776738815140503554092014241129187631517405710050996815021398529360474075012244133279098899206672363}{140855205719027513847473972113030579740028317165287103202550956376280013079897966725520143226170462009137561600000000000000000000}$$"
      ],
      "text/plain": [
       "382884146149893075784619557058776738815140503554092014241129187631517405710050\n",
       "──────────────────────────────────────────────────────────────────────────────\n",
       "140855205719027513847473972113030579740028317165287103202550956376280013079897\n",
       "\n",
       "996815021398529360474075012244133279098899206672363\n",
       "───────────────────────────────────────────────────\n",
       "966725520143226170462009137561600000000000000000000"
      ]
     },
     "metadata": {},
     "output_type": "display_data"
    },
    {
     "data": {
      "text/latex": [
       "$$\\frac{65856073137781609034954563814109599076204166611303826449474220272620993782128771452183680547050001540902105990924005010663547646437}{24227095383672732381765523203441259715284870552429381750838764496720162249742450276789464634901319465571660595200000000000000000000}$$"
      ],
      "text/plain": [
       "658560731377816090349545638141095990762041666113038264494742202726209937821287\n",
       "──────────────────────────────────────────────────────────────────────────────\n",
       "242270953836727323817655232034412597152848705524293817508387644967201622497424\n",
       "\n",
       "71452183680547050001540902105990924005010663547646437\n",
       "─────────────────────────────────────────────────────\n",
       "50276789464634901319465571660595200000000000000000000"
      ]
     },
     "metadata": {},
     "output_type": "display_data"
    },
    {
     "data": {
      "text/latex": [
       "$$\\frac{12455387745623913013132710982233771999195135859094419350226646008082666215315658948565174364333369856648876567848670512886366620087}{4582081083433755906986088084129107815716921169698600461571679372205769816799115595827572659209597377184205373440000000000000000000}$$"
      ],
      "text/plain": [
       "124553877456239130131327109822337719991951358590944193502266460080826662153156\n",
       "──────────────────────────────────────────────────────────────────────────────\n",
       " 45820810834337559069860880841291078157169211696986004615716793722057698167991\n",
       "\n",
       "58948565174364333369856648876567848670512886366620087\n",
       "─────────────────────────────────────────────────────\n",
       "15595827572659209597377184205373440000000000000000000"
      ]
     },
     "metadata": {},
     "output_type": "display_data"
    },
    {
     "data": {
      "text/latex": [
       "$$\\frac{38784161226373538367047087735447930040570699967395545792090356185168179107382913402916789097554985522857424882039552489356932367778597}{14267895558261418393445911203503560336940074534569180514186275460529966321848323024546164711138807832955125655142400000000000000000000}$$"
      ],
      "text/plain": [
       "387841612263735383670470877354479300405706999673955457920903561851681791073829\n",
       "──────────────────────────────────────────────────────────────────────────────\n",
       "142678955582614183934459112035035603369400745345691805141862754605299663218483\n",
       "\n",
       "13402916789097554985522857424882039552489356932367778597\n",
       "────────────────────────────────────────────────────────\n",
       "23024546164711138807832955125655142400000000000000000000"
      ]
     },
     "metadata": {},
     "output_type": "display_data"
    },
    {
     "data": {
      "text/latex": [
       "$$\\frac{4487327453891418389067348050991325505694029986227664648144854210623958322724203080717472498587111824994604058851976223018597074951983673}{1650795516090846108121691926245361930983966623649654185491352070783317103437850973939991257078760066272908038299975680000000000000000000}$$"
      ],
      "text/plain": [
       "448732745389141838906734805099132550569402998622766464814485421062395832272420\n",
       "──────────────────────────────────────────────────────────────────────────────\n",
       "165079551609084610812169192624536193098396662364965418549135207078331710343785\n",
       "\n",
       "3080717472498587111824994604058851976223018597074951983673\n",
       "──────────────────────────────────────────────────────────\n",
       "0973939991257078760066272908038299975680000000000000000000"
      ]
     },
     "metadata": {},
     "output_type": "display_data"
    },
    {
     "data": {
      "text/latex": [
       "$$\\frac{11943452055793781181809510313365034778554123514622210672201905080281308471421211654967647559548476953523046914964315691044136260270907}{4393750467943330180750518962748972292448963785394607509078161794580947685133407690077843194656947089384128118784000000000000000000000}$$"
      ],
      "text/plain": [
       "119434520557937811818095103133650347785541235146222106722019050802813084714212\n",
       "──────────────────────────────────────────────────────────────────────────────\n",
       "439375046794333018075051896274897229244896378539460750907816179458094768513340\n",
       "\n",
       "11654967647559548476953523046914964315691044136260270907\n",
       "────────────────────────────────────────────────────────\n",
       "7690077843194656947089384128118784000000000000000000000 "
      ]
     },
     "metadata": {},
     "output_type": "display_data"
    },
    {
     "data": {
      "text/latex": [
       "$$\\frac{45939014809213395758076975672023694864542631984005716835382944981262773328889029038845124704285557308382259052497106583152887554820932852349}{16900019095980037031895821094936892768448358309613334723967716824644208846444999345710660494343806178468896042096001024000000000000000000000}$$"
      ],
      "text/plain": [
       "459390148092133957580769756720236948645426319840057168353829449812627733288890\n",
       "──────────────────────────────────────────────────────────────────────────────\n",
       "169000190959800370318958210949368927684483583096133347239677168246442088464449\n",
       "\n",
       "29038845124704285557308382259052497106583152887554820932852349\n",
       "──────────────────────────────────────────────────────────────\n",
       "99345710660494343806178468896042096001024000000000000000000000"
      ]
     },
     "metadata": {},
     "output_type": "display_data"
    },
    {
     "data": {
      "text/latex": [
       "$$\\frac{6762222979916211855588930818921887884060675428045641518168369501241880234012465074518002356470834035793868532527574089040105048069641315865773}{2487682810928261451095064865174710615515598343175082871368047916587627542196703903688609224767408269470621497396531350732800000000000000000000}$$"
      ],
      "text/plain": [
       "676222297991621185558893081892188788406067542804564151816836950124188023401246\n",
       "──────────────────────────────────────────────────────────────────────────────\n",
       "248768281092826145109506486517471061551559834317508287136804791658762754219670\n",
       "\n",
       "5074518002356470834035793868532527574089040105048069641315865773\n",
       "────────────────────────────────────────────────────────────────\n",
       "3903688609224767408269470621497396531350732800000000000000000000"
      ]
     },
     "metadata": {},
     "output_type": "display_data"
    },
    {
     "data": {
      "text/latex": [
       "$$\\frac{1572216842830519256424426415399338933044107037020611652974145909038737154407898129825435547879468913322074433812660975701824423676191605938792223}{578386253540820787379602581153120218107376614788206767593071140606623403560733657607601644758422422651919498144693539045376000000000000000000000}$$"
      ],
      "text/plain": [
       "157221684283051925642442641539933893304410703702061165297414590903873715440789\n",
       "──────────────────────────────────────────────────────────────────────────────\n",
       " 57838625354082078737960258115312021810737661478820676759307114060662340356073\n",
       "\n",
       "8129825435547879468913322074433812660975701824423676191605938792223\n",
       "───────────────────────────────────────────────────────────────────\n",
       "3657607601644758422422651919498144693539045376000000000000000000000"
      ]
     },
     "metadata": {},
     "output_type": "display_data"
    },
    {
     "data": {
      "text/latex": [
       "$$\\frac{11823070658085504808311686643803028776491684918394999630365577235971303401147393936287275320053606228181999742271210537277719666044960876659717517}{4349464626626972321094611410271464040167472143207314892299894977361807994776717105209164368583336618342434626048095413621227520000000000000000000}$$"
      ],
      "text/plain": [
       "118230706580855048083116866438030287764916849183949996303655772359713034011473\n",
       "──────────────────────────────────────────────────────────────────────────────\n",
       "434946462662697232109461141027146404016747214320731489229989497736180799477671\n",
       "\n",
       "93936287275320053606228181999742271210537277719666044960876659717517\n",
       "────────────────────────────────────────────────────────────────────\n",
       "7105209164368583336618342434626048095413621227520000000000000000000 "
      ]
     },
     "metadata": {},
     "output_type": "display_data"
    },
    {
     "data": {
      "text/latex": [
       "$$\\frac{539996015633712959995004918827542179695533686176694694656120114142920107263943473051582286252448361383312488228733173577588157824168886193592867363}{198653432466135755049994271142206290296110506540718709023312510985274884376821213939841641834335085933909273785850511679815680000000000000000000000}$$"
      ],
      "text/plain": [
       "539996015633712959995004918827542179695533686176694694656120114142920107263943\n",
       "──────────────────────────────────────────────────────────────────────────────\n",
       "198653432466135755049994271142206290296110506540718709023312510985274884376821\n",
       "\n",
       "473051582286252448361383312488228733173577588157824168886193592867363\n",
       "─────────────────────────────────────────────────────────────────────\n",
       "213939841641834335085933909273785850511679815680000000000000000000000"
      ]
     },
     "metadata": {},
     "output_type": "display_data"
    },
    {
     "data": {
      "text/latex": [
       "$$\\frac{2695660110043495096295064554787090561040104161394059915723351609801457175461605817473498772972222220025495941237836002499320083858251079878415593876097}{991677934870949689209571401541893801158183648651267795444376054838492222809091499987689476037000748982075094738965754305639874560000000000000000000000}$$"
      ],
      "text/plain": [
       "269566011004349509629506455478709056104010416139405991572335160980145717546160\n",
       "──────────────────────────────────────────────────────────────────────────────\n",
       " 99167793487094968920957140154189380115818364865126779544437605483849222280909\n",
       "\n",
       "5817473498772972222220025495941237836002499320083858251079878415593876097\n",
       "─────────────────────────────────────────────────────────────────────────\n",
       "1499987689476037000748982075094738965754305639874560000000000000000000000"
      ]
     },
     "metadata": {},
     "output_type": "display_data"
    },
    {
     "data": {
      "text/latex": [
       "$$\\frac{26147903067421902434062126181434778442089010365522381182516510615074134601977576429492938097830555534247310630007009224243404813425035474820631260598141}{9619275968248211985332842594956369871234381391917297615810447731933374561248187549880587917558907265126128418967967816764706783232000000000000000000000}$$"
      ],
      "text/plain": [
       "261479030674219024340621261814347784420890103655223811825165106150741346019775\n",
       "──────────────────────────────────────────────────────────────────────────────\n",
       "961927596824821198533284259495636987123438139191729761581044773193337456124818\n",
       "\n",
       "76429492938097830555534247310630007009224243404813425035474820631260598141\n",
       "──────────────────────────────────────────────────────────────────────────\n",
       "7549880587917558907265126128418967967816764706783232000000000000000000000 "
      ]
     },
     "metadata": {},
     "output_type": "display_data"
    },
    {
     "data": {
      "text/latex": [
       "$$\\frac{25624945006073464385380883657806082873247230158211933558866180402772651909938024900903079335873944423562364417406869039758536717156534765324218635386178181}{9426890448883247745626185743057242473809693764078951663494238777294707070023223798882976159207729119823605850588608460429412647567360000000000000000000000}$$"
      ],
      "text/plain": [
       "256249450060734643853808836578060828732472301582119335588661804027726519099380\n",
       "──────────────────────────────────────────────────────────────────────────────\n",
       " 94268904488832477456261857430572424738096937640789516634942387772947070700232\n",
       "\n",
       "24900903079335873944423562364417406869039758536717156534765324218635386178181\n",
       "─────────────────────────────────────────────────────────────────────────────\n",
       "23798882976159207729119823605850588608460429412647567360000000000000000000000"
      ]
     },
     "metadata": {},
     "output_type": "display_data"
    },
    {
     "data": {
      "text/latex": [
       "$$\\frac{31710869445015912176908843526535027555643447320787267779096898248431156738548305814867560678144006224158425966541000436701189187481211772088720561290395499}{11665776930493019085212404857033337561339496033047702683574120486902199999153739451117682997019564785781712240103402969781398151364608000000000000000000000}$$"
      ],
      "text/plain": [
       "317108694450159121769088435265350275556434473207872677790968982484311567385483\n",
       "──────────────────────────────────────────────────────────────────────────────\n",
       "116657769304930190852124048570333375613394960330477026835741204869021999991537\n",
       "\n",
       "05814867560678144006224158425966541000436701189187481211772088720561290395499\n",
       "─────────────────────────────────────────────────────────────────────────────\n",
       "39451117682997019564785781712240103402969781398151364608000000000000000000000"
      ]
     },
     "metadata": {},
     "output_type": "display_data"
    },
    {
     "data": {
      "text/latex": [
       "$$\\frac{4299778907798767752801199122242037634663518280784714275131782813346597523870956720660008227544949996496057758175050906671347686438130409774741771022426508339}{1581800261761765299689817607733333906622304546853925787603270574495213559207286705236295999595873191292435557980122436580528562896896000000000000000000000000}$$"
      ],
      "text/plain": [
       "429977890779876775280119912224203763466351828078471427513178281334659752387095\n",
       "──────────────────────────────────────────────────────────────────────────────\n",
       "158180026176176529968981760773333390662230454685392578760327057449521355920728\n",
       "\n",
       "672066000822754494999649605775817505090667134768643813040977474177102242650833\n",
       "──────────────────────────────────────────────────────────────────────────────\n",
       "670523629599959587319129243555798012243658052856289689600000000000000000000000\n",
       "\n",
       "9\n",
       "─\n",
       "0"
      ]
     },
     "metadata": {},
     "output_type": "display_data"
    }
   ],
   "source": [
    "for taylor_i in taylors:\n",
    "    res = taylor_i.subs(x,1)\n",
    "    display(res)"
   ]
  },
  {
   "cell_type": "code",
   "execution_count": null,
   "metadata": {
    "collapsed": true
   },
   "outputs": [],
   "source": []
  }
 ],
 "metadata": {
  "kernelspec": {
   "display_name": "Python 3",
   "language": "python",
   "name": "python3"
  },
  "language_info": {
   "codemirror_mode": {
    "name": "ipython",
    "version": 3
   },
   "file_extension": ".py",
   "mimetype": "text/x-python",
   "name": "python",
   "nbconvert_exporter": "python",
   "pygments_lexer": "ipython3",
   "version": "3.5.3"
  }
 },
 "nbformat": 4,
 "nbformat_minor": 2
}
