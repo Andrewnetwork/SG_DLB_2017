{
 "cells": [
  {
   "cell_type": "markdown",
   "metadata": {},
   "source": [
    "# Mathematical Series\n",
    "** October 2017 **\n",
    "\n",
    "** Andrew Riberio @ [AndrewRib.com](http://www.andrewrib.com) **\n",
    "\n",
    "In this notebook we will explore general properties of infinite mathematical series and particular important series such as: \n",
    "* Geometric Series\n",
    "* Harmonic Series\n",
    "* Alternating Series\n",
    "* Power Series \n",
    "* Binomial Series\n",
    "* [Taylor Series](https://en.wikipedia.org/wiki/Taylor_series)\n",
    "* Trigonometric series ( Fourier analysis )\n",
    "\n",
    "Resources:\n",
    "* https://en.wikipedia.org/wiki/Series_(mathematics)"
   ]
  },
  {
   "cell_type": "markdown",
   "metadata": {},
   "source": [
    "## Libraries"
   ]
  },
  {
   "cell_type": "code",
   "execution_count": 161,
   "metadata": {
    "collapsed": true
   },
   "outputs": [],
   "source": [
    "import sympy as sp\n",
    "import sympy.functions.combinatorial.factorials as fact\n",
    "import matplotlib.pyplot as plt\n",
    "import numpy as np\n",
    "\n",
    "# Pretty Latex printing for Sympy with an argument to show the polynomials the way we write them \n",
    "# from small term to larger. May give you problems if you don't have a latex distribution. \n",
    "sp.init_printing(order='rev-lex')"
   ]
  },
  {
   "cell_type": "markdown",
   "metadata": {},
   "source": [
    "## Basic Notions"
   ]
  },
  {
   "cell_type": "markdown",
   "metadata": {},
   "source": [
    "## Taylor Series\n",
    "The taylor series is an intriguing power series that makes use of acending derivitives to approximate a function. \n",
    "Please see the [Taylor Series](https://en.wikipedia.org/wiki/Taylor_series) wiki for a formal definition. Here we will implement the taylor series function and use it to approximate various functions. "
   ]
  },
  {
   "cell_type": "code",
   "execution_count": 131,
   "metadata": {},
   "outputs": [],
   "source": [
    "def taylor(fn,depth, x=None,a = None, printSteps = True):\n",
    "    # If no x or a is provided, we will be symbolically computing the taylor series. \n",
    "    if(x == None):\n",
    "        x = sp.symbols('x')\n",
    "    if(a == None):\n",
    "        a = sp.symbols('a')\n",
    "    \n",
    "    # The start of the taylor series \n",
    "    result = fn(a)\n",
    "    \n",
    "    if depth == 0:\n",
    "        return result \n",
    "    elif depth > 0:\n",
    "        cummulativeDYDX = fn(a)\n",
    "        for i in range(depth):\n",
    "            cummulativeDYDX = sp.diff(cummulativeDYDX)\n",
    "            \n",
    "            if(printSteps):\n",
    "                print(\"Derivitive of order d^{0}y/d{0}y: {1}\".format(i+1,cummulativeDYDX))\n",
    "                      \n",
    "            result = result + (cummulativeDYDX  / fact.factorial(i+1))*(x - a)**(i+1) \n",
    "                      \n",
    "        return result\n",
    "    else:\n",
    "        # Malformed case.\n",
    "        return 0"
   ]
  },
  {
   "cell_type": "markdown",
   "metadata": {},
   "source": [
    "Consider the beloved Euler Number:  $e^{x}$. It has a most interesting taylor series. Let's show it here expanded to 5 steps. "
   ]
  },
  {
   "cell_type": "code",
   "execution_count": 145,
   "metadata": {},
   "outputs": [
    {
     "name": "stdout",
     "output_type": "stream",
     "text": [
      "Derivitive of order d^1y/d1y: exp(a)\n",
      "Derivitive of order d^2y/d2y: exp(a)\n",
      "Derivitive of order d^3y/d3y: exp(a)\n",
      "Derivitive of order d^4y/d4y: exp(a)\n",
      "Derivitive of order d^5y/d5y: exp(a)\n"
     ]
    },
    {
     "data": {
      "image/png": "[encoded data removed]",
      "text/latex": [
       "$$e^{a} + \\left(x - a\\right) e^{a} + \\frac{e^{a}}{2} \\left(x - a\\right)^{2} + \\frac{e^{a}}{6} \\left(x - a\\right)^{3} + \\frac{e^{a}}{24} \\left(x - a\\right)^{4} + \\frac{e^{a}}{120} \\left(x - a\\right)^{5}$$"
      ],
      "text/plain": [
       "                         2  a          3  a          4  a          5  a\n",
       " a            a   (x - a) ⋅ℯ    (x - a) ⋅ℯ    (x - a) ⋅ℯ    (x - a) ⋅ℯ \n",
       "ℯ  + (x - a)⋅ℯ  + ─────────── + ─────────── + ─────────── + ───────────\n",
       "                       2             6             24           120    "
      ]
     },
     "execution_count": 145,
     "metadata": {},
     "output_type": "execute_result"
    }
   ],
   "source": [
    "eTaylor5 = taylor(sp.exp,5)\n",
    "eTaylor5 "
   ]
  },
  {
   "cell_type": "markdown",
   "metadata": {},
   "source": [
    "As we see, one of the nifty features of the $e^{x}$ is that it is equal to its derivative. Thus, when we chain higher order derivatives of $e^{x}$, we simply get the same thing ( as shown in the printout). This leads to the simplest type of taylor series, as the derivitive term remains constant. \n",
    "\n",
    "So what does this taylor series of $e^{x}$ look like with only 5 terms? We will make use of sympy's symbolic computation abilities to substitute in values for x and a.\n",
    "\n",
    "In the case of a = 0, we get:"
   ]
  },
  {
   "cell_type": "code",
   "execution_count": 186,
   "metadata": {},
   "outputs": [
    {
     "data": {
      "image/png": "[encoded data removed]",
      "text/latex": [
       "$$1 + x + \\frac{x^{2}}{2} + \\frac{x^{3}}{6} + \\frac{x^{4}}{24} + \\frac{x^{5}}{120}$$"
      ],
      "text/plain": [
       "         2    3    4     5\n",
       "        x    x    x     x \n",
       "1 + x + ── + ── + ── + ───\n",
       "        2    6    24   120"
      ]
     },
     "execution_count": 186,
     "metadata": {},
     "output_type": "execute_result"
    }
   ],
   "source": [
    "x, a = sp.symbols('x a')\n",
    "eTaylor5_0 = eTaylor5.subs(a,0)\n",
    "eTaylor5_0 "
   ]
  },
  {
   "cell_type": "code",
   "execution_count": 216,
   "metadata": {},
   "outputs": [
    {
     "data": {
      "image/png": "[encoded data removed]",
      "text/plain": [
       "<matplotlib.figure.Figure at 0x12db4fd9438>"
      ]
     },
     "metadata": {},
     "output_type": "display_data"
    }
   ],
   "source": [
    "xs      = np.arange(-2,4,0.1)\n",
    "ys      = np.exp(xs)\n",
    "yTaylor = []\n",
    "\n",
    "for xi in xs:\n",
    "    yTaylor.append( eTaylor5_0.subs(x,xi) )\n",
    "    \n",
    "plt.figure(figsize=(15,15)),\n",
    "plt.plot(xs,ys,color = \"blue\")\n",
    "plt.plot(xs,yTaylor,color=\"red\")\n",
    "\n",
    "plt.title(\"Value of $e$ and Taylor Series Approximation\",fontsize=20)\n",
    "plt.ylabel(\"Y\",fontsize=20)\n",
    "plt.xlabel(\"X\",fontsize=20)\n",
    "\n",
    "plt.show()"
   ]
  },
  {
   "cell_type": "code",
   "execution_count": 191,
   "metadata": {},
   "outputs": [
    {
     "data": {
      "image/png": "[encoded data removed]",
      "text/latex": [
       "$$\\frac{92}{5}$$"
      ],
      "text/plain": [
       "92/5"
      ]
     },
     "execution_count": 191,
     "metadata": {},
     "output_type": "execute_result"
    }
   ],
   "source": []
  },
  {
   "cell_type": "code",
   "execution_count": 103,
   "metadata": {},
   "outputs": [
    {
     "name": "stdout",
     "output_type": "stream",
     "text": [
      "2*a\n",
      "2\n",
      "0\n"
     ]
    },
    {
     "data": {
      "image/png": "[encoded data removed]",
      "text/latex": [
       "$$\\left(x - a\\right)^{2} + 2 a \\left(x - a\\right) + a^{2}$$"
      ],
      "text/plain": [
       "       2                  2\n",
       "(x - a)  + 2⋅a⋅(x - a) + a "
      ]
     },
     "execution_count": 103,
     "metadata": {},
     "output_type": "execute_result"
    }
   ],
   "source": [
    "t2 = taylor(lambda x: x**2,x,a,3)\n",
    "t2"
   ]
  }
 ],
 "metadata": {
  "kernelspec": {
   "display_name": "Python 3",
   "language": "python",
   "name": "python3"
  },
  "language_info": {
   "codemirror_mode": {
    "name": "ipython",
    "version": 3
   },
   "file_extension": ".py",
   "mimetype": "text/x-python",
   "name": "python",
   "nbconvert_exporter": "python",
   "pygments_lexer": "ipython3",
   "version": "3.5.3"
  }
 },
 "nbformat": 4,
 "nbformat_minor": 2
}
