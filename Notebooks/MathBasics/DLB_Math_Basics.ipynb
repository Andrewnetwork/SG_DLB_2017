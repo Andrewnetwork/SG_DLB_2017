{
 "cells": [
  {
   "cell_type": "markdown",
   "metadata": {},
   "source": [
    "# Setup\n",
    "\n",
    "## Option 1: Anaconda \n",
    "\n",
    "This is the most reproducible method of creating a scipy environment across platforms. We could use docker, but then we’d run into issues if we’d like to use gpu optimized libraries. \n",
    "\n",
    "1. Install anaconda navigator: https://www.anaconda.com/download/\n",
    "2. Open the navigator and create a new environment called DLB2017. \n",
    "3. Open a terminal from anaconda navigator and install the scipy stack:\n",
    "```\n",
    "conda install -c anaconda scipy\n",
    "```\n",
    "4. Select DLB2017 as your active environment in the navigator window. \n",
    "5. Select home and launch the jupyter conda application listed. \n",
    "\n",
    "## Option 2: Raw Install \n",
    "\n",
    "Todo"
   ]
  },
  {
   "cell_type": "markdown",
   "metadata": {},
   "source": [
    "# Numpy Basics\n",
    "Sources:\n",
    "* https://docs.scipy.org/doc/numpy-dev/user/quickstart.html\n",
    "* https://docs.scipy.org/doc/scipy/reference/tutorial/index.html"
   ]
  },
  {
   "cell_type": "code",
   "execution_count": 3,
   "metadata": {
    "collapsed": true
   },
   "outputs": [],
   "source": [
    "import numpy as np"
   ]
  },
  {
   "cell_type": "code",
   "execution_count": 17,
   "metadata": {
    "collapsed": false
   },
   "outputs": [
    {
     "name": "stdout",
     "output_type": "stream",
     "text": [
      "Example Matrix - <class 'numpy.ndarray'>\n",
      "[[ 0  1  2  3  4]\n",
      " [ 5  6  7  8  9]\n",
      " [10 11 12 13 14]]\n"
     ]
    }
   ],
   "source": [
    "a = np.arange(15).reshape(3, 5)\n",
    "print(\"Example Matrix - {0}\".format(type(a)))\n",
    "print(a)"
   ]
  },
  {
   "cell_type": "code",
   "execution_count": 14,
   "metadata": {
    "collapsed": false
   },
   "outputs": [
    {
     "name": "stdout",
     "output_type": "stream",
     "text": [
      "Shape of matrix: (3, 5)\n",
      "Nuber of dimensions: 2\n",
      "Datatype: int32\n",
      "Total elements: 15\n"
     ]
    }
   ],
   "source": [
    "print(\"Shape of matrix: {0}\".format(a.shape))\n",
    "print(\"Nuber of dimensions: {0}\".format(a.ndim))\n",
    "print(\"Datatype: {0}\".format(a.dtype.name))\n",
    "print(\"Total elements: {0}\".format(a.size))"
   ]
  },
  {
   "cell_type": "code",
   "execution_count": 31,
   "metadata": {
    "collapsed": false
   },
   "outputs": [
    {
     "data": {
      "text/plain": [
       "array([[1, 1, 1],\n",
       "       [1, 1, 1]], dtype=int16)"
      ]
     },
     "execution_count": 31,
     "metadata": {},
     "output_type": "execute_result"
    }
   ],
   "source": [
    "np.zeros(3)\n",
    "np.zeros((3,3))\n",
    "np.zeros((3,3,3))\n",
    "np.ones( (2,3), dtype=np.int16 )   "
   ]
  },
  {
   "cell_type": "code",
   "execution_count": 23,
   "metadata": {
    "collapsed": false
   },
   "outputs": [
    {
     "name": "stdout",
     "output_type": "stream",
     "text": [
      "[[ 1.5  2.   3. ]\n",
      " [ 4.   5.   6. ]]\n"
     ]
    }
   ],
   "source": [
    "b = np.array([(1.5,2,3), (4,5,6)])\n",
    "print(b)"
   ]
  },
  {
   "cell_type": "code",
   "execution_count": 26,
   "metadata": {
    "collapsed": true
   },
   "outputs": [],
   "source": [
    "c = np.array( [ [1,2], [3,4] ], dtype=complex )"
   ]
  },
  {
   "cell_type": "code",
   "execution_count": 29,
   "metadata": {
    "collapsed": false
   },
   "outputs": [
    {
     "name": "stdout",
     "output_type": "stream",
     "text": [
      "[[ 1.+0.j  2.+0.j]\n",
      " [ 3.+0.j  4.+0.j]]\n"
     ]
    }
   ],
   "source": [
    "print(c)"
   ]
  },
  {
   "cell_type": "code",
   "execution_count": 35,
   "metadata": {
    "collapsed": false
   },
   "outputs": [
    {
     "name": "stdout",
     "output_type": "stream",
     "text": [
      "[[ 0.16472788  0.3305694   0.04881993]\n",
      " [ 0.13366095  0.93856918  0.58558425]]\n"
     ]
    }
   ],
   "source": [
    "r = np.random.random((2,3))\n",
    "print(r)"
   ]
  },
  {
   "cell_type": "code",
   "execution_count": 36,
   "metadata": {
    "collapsed": false
   },
   "outputs": [
    {
     "name": "stdout",
     "output_type": "stream",
     "text": [
      "[[ 0.16472788  0.3305694 ]\n",
      " [ 0.04881993  0.13366095]\n",
      " [ 0.93856918  0.58558425]]\n"
     ]
    }
   ],
   "source": [
    "r_reshape = r.reshape(3,2)\n",
    "print(r_reshape)"
   ]
  },
  {
   "cell_type": "markdown",
   "metadata": {},
   "source": [
    "## Ranges"
   ]
  },
  {
   "cell_type": "code",
   "execution_count": 44,
   "metadata": {
    "collapsed": false
   },
   "outputs": [
    {
     "name": "stdout",
     "output_type": "stream",
     "text": [
      "[ 0.    0.25  0.5   0.75  1.    1.25  1.5   1.75  2.  ]\n",
      "[10 15 20 25]\n"
     ]
    }
   ],
   "source": [
    "print(np.linspace( 0, 2, 9 ))\n",
    "print(np.arange(10, 30, 5 ))"
   ]
  },
  {
   "cell_type": "markdown",
   "metadata": {},
   "source": [
    "## Indexing, Slicing, and Iterating"
   ]
  },
  {
   "cell_type": "code",
   "execution_count": 46,
   "metadata": {
    "collapsed": false
   },
   "outputs": [
    {
     "name": "stdout",
     "output_type": "stream",
     "text": [
      "[[ 0.16472788  0.3305694   0.04881993]\n",
      " [ 0.13366095  0.93856918  0.58558425]]\n",
      "Row 2: [ 0.13366095  0.93856918  0.58558425]\n",
      "Column 2: [ 0.3305694   0.93856918]\n"
     ]
    }
   ],
   "source": [
    "print(r)\n",
    "print(\"Row 2: {0}\".format(r[1,:]))\n",
    "print(\"Column 2: {0}\".format(r[:,1]))"
   ]
  },
  {
   "cell_type": "markdown",
   "metadata": {
    "collapsed": true
   },
   "source": [
    "For more linear algebra operations see: https://docs.scipy.org/doc/numpy-1.13.0/reference/routines.linalg.html"
   ]
  }
 ],
 "metadata": {
  "kernelspec": {
   "display_name": "Python 3",
   "language": "python",
   "name": "python3"
  },
  "language_info": {
   "codemirror_mode": {
    "name": "ipython",
    "version": 3
   },
   "file_extension": ".py",
   "mimetype": "text/x-python",
   "name": "python",
   "nbconvert_exporter": "python",
   "pygments_lexer": "ipython3",
   "version": "3.6.0"
  }
 },
 "nbformat": 4,
 "nbformat_minor": 2
}
